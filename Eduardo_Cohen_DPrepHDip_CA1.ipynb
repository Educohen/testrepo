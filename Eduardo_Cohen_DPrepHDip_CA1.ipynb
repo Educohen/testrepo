{
 "cells": [
  {
   "cell_type": "markdown",
   "id": "c085f2da",
   "metadata": {},
   "source": [
    "# Data Preparation CA 1 - Eduardo Cohen - Scania Trucks Components Report"
   ]
  },
  {
   "cell_type": "code",
   "execution_count": null,
   "id": "f453fbe4",
   "metadata": {},
   "outputs": [],
   "source": [
    "import numpy as np\n",
    "import pandas as pd\n",
    "import matplotlib.pyplot as plt\n",
    "import seaborn as sns"
   ]
  },
  {
   "cell_type": "code",
   "execution_count": 2,
   "id": "76e20d4c",
   "metadata": {},
   "outputs": [],
   "source": [
    "aps_failure_df = pd.read_csv(\"aps_failure_set.csv\")"
   ]
  },
  {
   "cell_type": "code",
   "execution_count": 3,
   "id": "5756e0a5",
   "metadata": {
    "scrolled": true
   },
   "outputs": [
    {
     "data": {
      "text/html": [
       "<div>\n",
       "<style scoped>\n",
       "    .dataframe tbody tr th:only-of-type {\n",
       "        vertical-align: middle;\n",
       "    }\n",
       "\n",
       "    .dataframe tbody tr th {\n",
       "        vertical-align: top;\n",
       "    }\n",
       "\n",
       "    .dataframe thead th {\n",
       "        text-align: right;\n",
       "    }\n",
       "</style>\n",
       "<table border=\"1\" class=\"dataframe\">\n",
       "  <thead>\n",
       "    <tr style=\"text-align: right;\">\n",
       "      <th></th>\n",
       "      <th>class</th>\n",
       "      <th>aa_000</th>\n",
       "      <th>ab_000</th>\n",
       "      <th>ac_000</th>\n",
       "      <th>ad_000</th>\n",
       "      <th>ae_000</th>\n",
       "      <th>af_000</th>\n",
       "      <th>ag_000</th>\n",
       "      <th>ag_001</th>\n",
       "      <th>ag_002</th>\n",
       "      <th>...</th>\n",
       "      <th>ee_002</th>\n",
       "      <th>ee_003</th>\n",
       "      <th>ee_004</th>\n",
       "      <th>ee_005</th>\n",
       "      <th>ee_006</th>\n",
       "      <th>ee_007</th>\n",
       "      <th>ee_008</th>\n",
       "      <th>ee_009</th>\n",
       "      <th>ef_000</th>\n",
       "      <th>eg_000</th>\n",
       "    </tr>\n",
       "  </thead>\n",
       "  <tbody>\n",
       "    <tr>\n",
       "      <th>0</th>\n",
       "      <td>neg</td>\n",
       "      <td>76698</td>\n",
       "      <td>na</td>\n",
       "      <td>2130706438</td>\n",
       "      <td>280</td>\n",
       "      <td>0</td>\n",
       "      <td>0</td>\n",
       "      <td>0</td>\n",
       "      <td>0</td>\n",
       "      <td>0</td>\n",
       "      <td>...</td>\n",
       "      <td>1240520</td>\n",
       "      <td>493384</td>\n",
       "      <td>721044</td>\n",
       "      <td>469792</td>\n",
       "      <td>339156</td>\n",
       "      <td>157956</td>\n",
       "      <td>73224</td>\n",
       "      <td>0</td>\n",
       "      <td>0</td>\n",
       "      <td>0</td>\n",
       "    </tr>\n",
       "    <tr>\n",
       "      <th>1</th>\n",
       "      <td>neg</td>\n",
       "      <td>33058</td>\n",
       "      <td>na</td>\n",
       "      <td>0</td>\n",
       "      <td>na</td>\n",
       "      <td>0</td>\n",
       "      <td>0</td>\n",
       "      <td>0</td>\n",
       "      <td>0</td>\n",
       "      <td>0</td>\n",
       "      <td>...</td>\n",
       "      <td>421400</td>\n",
       "      <td>178064</td>\n",
       "      <td>293306</td>\n",
       "      <td>245416</td>\n",
       "      <td>133654</td>\n",
       "      <td>81140</td>\n",
       "      <td>97576</td>\n",
       "      <td>1500</td>\n",
       "      <td>0</td>\n",
       "      <td>0</td>\n",
       "    </tr>\n",
       "    <tr>\n",
       "      <th>2</th>\n",
       "      <td>neg</td>\n",
       "      <td>41040</td>\n",
       "      <td>na</td>\n",
       "      <td>228</td>\n",
       "      <td>100</td>\n",
       "      <td>0</td>\n",
       "      <td>0</td>\n",
       "      <td>0</td>\n",
       "      <td>0</td>\n",
       "      <td>0</td>\n",
       "      <td>...</td>\n",
       "      <td>277378</td>\n",
       "      <td>159812</td>\n",
       "      <td>423992</td>\n",
       "      <td>409564</td>\n",
       "      <td>320746</td>\n",
       "      <td>158022</td>\n",
       "      <td>95128</td>\n",
       "      <td>514</td>\n",
       "      <td>0</td>\n",
       "      <td>0</td>\n",
       "    </tr>\n",
       "    <tr>\n",
       "      <th>3</th>\n",
       "      <td>neg</td>\n",
       "      <td>12</td>\n",
       "      <td>0</td>\n",
       "      <td>70</td>\n",
       "      <td>66</td>\n",
       "      <td>0</td>\n",
       "      <td>10</td>\n",
       "      <td>0</td>\n",
       "      <td>0</td>\n",
       "      <td>0</td>\n",
       "      <td>...</td>\n",
       "      <td>240</td>\n",
       "      <td>46</td>\n",
       "      <td>58</td>\n",
       "      <td>44</td>\n",
       "      <td>10</td>\n",
       "      <td>0</td>\n",
       "      <td>0</td>\n",
       "      <td>0</td>\n",
       "      <td>4</td>\n",
       "      <td>32</td>\n",
       "    </tr>\n",
       "    <tr>\n",
       "      <th>4</th>\n",
       "      <td>neg</td>\n",
       "      <td>60874</td>\n",
       "      <td>na</td>\n",
       "      <td>1368</td>\n",
       "      <td>458</td>\n",
       "      <td>0</td>\n",
       "      <td>0</td>\n",
       "      <td>0</td>\n",
       "      <td>0</td>\n",
       "      <td>0</td>\n",
       "      <td>...</td>\n",
       "      <td>622012</td>\n",
       "      <td>229790</td>\n",
       "      <td>405298</td>\n",
       "      <td>347188</td>\n",
       "      <td>286954</td>\n",
       "      <td>311560</td>\n",
       "      <td>433954</td>\n",
       "      <td>1218</td>\n",
       "      <td>0</td>\n",
       "      <td>0</td>\n",
       "    </tr>\n",
       "    <tr>\n",
       "      <th>5</th>\n",
       "      <td>neg</td>\n",
       "      <td>38312</td>\n",
       "      <td>na</td>\n",
       "      <td>2130706432</td>\n",
       "      <td>218</td>\n",
       "      <td>0</td>\n",
       "      <td>0</td>\n",
       "      <td>0</td>\n",
       "      <td>0</td>\n",
       "      <td>0</td>\n",
       "      <td>...</td>\n",
       "      <td>388574</td>\n",
       "      <td>288278</td>\n",
       "      <td>900430</td>\n",
       "      <td>300412</td>\n",
       "      <td>1534</td>\n",
       "      <td>338</td>\n",
       "      <td>856</td>\n",
       "      <td>0</td>\n",
       "      <td>0</td>\n",
       "      <td>0</td>\n",
       "    </tr>\n",
       "    <tr>\n",
       "      <th>6</th>\n",
       "      <td>neg</td>\n",
       "      <td>14</td>\n",
       "      <td>0</td>\n",
       "      <td>6</td>\n",
       "      <td>na</td>\n",
       "      <td>0</td>\n",
       "      <td>0</td>\n",
       "      <td>0</td>\n",
       "      <td>0</td>\n",
       "      <td>0</td>\n",
       "      <td>...</td>\n",
       "      <td>168</td>\n",
       "      <td>48</td>\n",
       "      <td>60</td>\n",
       "      <td>28</td>\n",
       "      <td>0</td>\n",
       "      <td>0</td>\n",
       "      <td>0</td>\n",
       "      <td>0</td>\n",
       "      <td>0</td>\n",
       "      <td>0</td>\n",
       "    </tr>\n",
       "    <tr>\n",
       "      <th>7</th>\n",
       "      <td>neg</td>\n",
       "      <td>102960</td>\n",
       "      <td>na</td>\n",
       "      <td>2130706432</td>\n",
       "      <td>116</td>\n",
       "      <td>0</td>\n",
       "      <td>0</td>\n",
       "      <td>0</td>\n",
       "      <td>0</td>\n",
       "      <td>0</td>\n",
       "      <td>...</td>\n",
       "      <td>715518</td>\n",
       "      <td>384948</td>\n",
       "      <td>915978</td>\n",
       "      <td>1052166</td>\n",
       "      <td>1108672</td>\n",
       "      <td>341532</td>\n",
       "      <td>129504</td>\n",
       "      <td>7832</td>\n",
       "      <td>0</td>\n",
       "      <td>0</td>\n",
       "    </tr>\n",
       "    <tr>\n",
       "      <th>8</th>\n",
       "      <td>neg</td>\n",
       "      <td>78696</td>\n",
       "      <td>na</td>\n",
       "      <td>0</td>\n",
       "      <td>na</td>\n",
       "      <td>0</td>\n",
       "      <td>0</td>\n",
       "      <td>0</td>\n",
       "      <td>0</td>\n",
       "      <td>0</td>\n",
       "      <td>...</td>\n",
       "      <td>699290</td>\n",
       "      <td>362510</td>\n",
       "      <td>1190028</td>\n",
       "      <td>1012704</td>\n",
       "      <td>160090</td>\n",
       "      <td>63216</td>\n",
       "      <td>41202</td>\n",
       "      <td>4</td>\n",
       "      <td>0</td>\n",
       "      <td>0</td>\n",
       "    </tr>\n",
       "    <tr>\n",
       "      <th>9</th>\n",
       "      <td>pos</td>\n",
       "      <td>153204</td>\n",
       "      <td>0</td>\n",
       "      <td>182</td>\n",
       "      <td>na</td>\n",
       "      <td>0</td>\n",
       "      <td>0</td>\n",
       "      <td>0</td>\n",
       "      <td>0</td>\n",
       "      <td>0</td>\n",
       "      <td>...</td>\n",
       "      <td>129862</td>\n",
       "      <td>26872</td>\n",
       "      <td>34044</td>\n",
       "      <td>22472</td>\n",
       "      <td>34362</td>\n",
       "      <td>0</td>\n",
       "      <td>0</td>\n",
       "      <td>0</td>\n",
       "      <td>0</td>\n",
       "      <td>0</td>\n",
       "    </tr>\n",
       "  </tbody>\n",
       "</table>\n",
       "<p>10 rows × 171 columns</p>\n",
       "</div>"
      ],
      "text/plain": [
       "  class  aa_000 ab_000      ac_000 ad_000 ae_000 af_000 ag_000 ag_001 ag_002  \\\n",
       "0   neg   76698     na  2130706438    280      0      0      0      0      0   \n",
       "1   neg   33058     na           0     na      0      0      0      0      0   \n",
       "2   neg   41040     na         228    100      0      0      0      0      0   \n",
       "3   neg      12      0          70     66      0     10      0      0      0   \n",
       "4   neg   60874     na        1368    458      0      0      0      0      0   \n",
       "5   neg   38312     na  2130706432    218      0      0      0      0      0   \n",
       "6   neg      14      0           6     na      0      0      0      0      0   \n",
       "7   neg  102960     na  2130706432    116      0      0      0      0      0   \n",
       "8   neg   78696     na           0     na      0      0      0      0      0   \n",
       "9   pos  153204      0         182     na      0      0      0      0      0   \n",
       "\n",
       "   ...   ee_002  ee_003   ee_004   ee_005   ee_006  ee_007  ee_008 ee_009  \\\n",
       "0  ...  1240520  493384   721044   469792   339156  157956   73224      0   \n",
       "1  ...   421400  178064   293306   245416   133654   81140   97576   1500   \n",
       "2  ...   277378  159812   423992   409564   320746  158022   95128    514   \n",
       "3  ...      240      46       58       44       10       0       0      0   \n",
       "4  ...   622012  229790   405298   347188   286954  311560  433954   1218   \n",
       "5  ...   388574  288278   900430   300412     1534     338     856      0   \n",
       "6  ...      168      48       60       28        0       0       0      0   \n",
       "7  ...   715518  384948   915978  1052166  1108672  341532  129504   7832   \n",
       "8  ...   699290  362510  1190028  1012704   160090   63216   41202      4   \n",
       "9  ...   129862   26872    34044    22472    34362       0       0      0   \n",
       "\n",
       "  ef_000 eg_000  \n",
       "0      0      0  \n",
       "1      0      0  \n",
       "2      0      0  \n",
       "3      4     32  \n",
       "4      0      0  \n",
       "5      0      0  \n",
       "6      0      0  \n",
       "7      0      0  \n",
       "8      0      0  \n",
       "9      0      0  \n",
       "\n",
       "[10 rows x 171 columns]"
      ]
     },
     "execution_count": 3,
     "metadata": {},
     "output_type": "execute_result"
    }
   ],
   "source": [
    "aps_failure_df.head(10)"
   ]
  },
  {
   "cell_type": "code",
   "execution_count": 4,
   "id": "e75a12ed",
   "metadata": {},
   "outputs": [
    {
     "data": {
      "text/html": [
       "<div>\n",
       "<style scoped>\n",
       "    .dataframe tbody tr th:only-of-type {\n",
       "        vertical-align: middle;\n",
       "    }\n",
       "\n",
       "    .dataframe tbody tr th {\n",
       "        vertical-align: top;\n",
       "    }\n",
       "\n",
       "    .dataframe thead th {\n",
       "        text-align: right;\n",
       "    }\n",
       "</style>\n",
       "<table border=\"1\" class=\"dataframe\">\n",
       "  <thead>\n",
       "    <tr style=\"text-align: right;\">\n",
       "      <th></th>\n",
       "      <th>class</th>\n",
       "      <th>aa_000</th>\n",
       "      <th>ab_000</th>\n",
       "      <th>ac_000</th>\n",
       "      <th>ad_000</th>\n",
       "      <th>ae_000</th>\n",
       "      <th>af_000</th>\n",
       "      <th>ag_000</th>\n",
       "      <th>ag_001</th>\n",
       "      <th>ag_002</th>\n",
       "      <th>...</th>\n",
       "      <th>ee_002</th>\n",
       "      <th>ee_003</th>\n",
       "      <th>ee_004</th>\n",
       "      <th>ee_005</th>\n",
       "      <th>ee_006</th>\n",
       "      <th>ee_007</th>\n",
       "      <th>ee_008</th>\n",
       "      <th>ee_009</th>\n",
       "      <th>ef_000</th>\n",
       "      <th>eg_000</th>\n",
       "    </tr>\n",
       "  </thead>\n",
       "  <tbody>\n",
       "    <tr>\n",
       "      <th>59990</th>\n",
       "      <td>neg</td>\n",
       "      <td>81354</td>\n",
       "      <td>na</td>\n",
       "      <td>2130706432</td>\n",
       "      <td>156</td>\n",
       "      <td>0</td>\n",
       "      <td>0</td>\n",
       "      <td>0</td>\n",
       "      <td>0</td>\n",
       "      <td>0</td>\n",
       "      <td>...</td>\n",
       "      <td>627610</td>\n",
       "      <td>376028</td>\n",
       "      <td>931828</td>\n",
       "      <td>1035236</td>\n",
       "      <td>674626</td>\n",
       "      <td>161266</td>\n",
       "      <td>3284</td>\n",
       "      <td>0</td>\n",
       "      <td>0</td>\n",
       "      <td>0</td>\n",
       "    </tr>\n",
       "    <tr>\n",
       "      <th>59991</th>\n",
       "      <td>neg</td>\n",
       "      <td>39308</td>\n",
       "      <td>na</td>\n",
       "      <td>452</td>\n",
       "      <td>374</td>\n",
       "      <td>0</td>\n",
       "      <td>0</td>\n",
       "      <td>0</td>\n",
       "      <td>0</td>\n",
       "      <td>0</td>\n",
       "      <td>...</td>\n",
       "      <td>312426</td>\n",
       "      <td>161694</td>\n",
       "      <td>323438</td>\n",
       "      <td>292350</td>\n",
       "      <td>250112</td>\n",
       "      <td>157636</td>\n",
       "      <td>234932</td>\n",
       "      <td>9506</td>\n",
       "      <td>0</td>\n",
       "      <td>0</td>\n",
       "    </tr>\n",
       "    <tr>\n",
       "      <th>59992</th>\n",
       "      <td>neg</td>\n",
       "      <td>14</td>\n",
       "      <td>0</td>\n",
       "      <td>2</td>\n",
       "      <td>2</td>\n",
       "      <td>0</td>\n",
       "      <td>0</td>\n",
       "      <td>0</td>\n",
       "      <td>0</td>\n",
       "      <td>0</td>\n",
       "      <td>...</td>\n",
       "      <td>132</td>\n",
       "      <td>44</td>\n",
       "      <td>80</td>\n",
       "      <td>52</td>\n",
       "      <td>54</td>\n",
       "      <td>0</td>\n",
       "      <td>0</td>\n",
       "      <td>0</td>\n",
       "      <td>0</td>\n",
       "      <td>0</td>\n",
       "    </tr>\n",
       "    <tr>\n",
       "      <th>59993</th>\n",
       "      <td>neg</td>\n",
       "      <td>0</td>\n",
       "      <td>2</td>\n",
       "      <td>0</td>\n",
       "      <td>0</td>\n",
       "      <td>0</td>\n",
       "      <td>0</td>\n",
       "      <td>0</td>\n",
       "      <td>0</td>\n",
       "      <td>0</td>\n",
       "      <td>...</td>\n",
       "      <td>0</td>\n",
       "      <td>0</td>\n",
       "      <td>0</td>\n",
       "      <td>0</td>\n",
       "      <td>0</td>\n",
       "      <td>0</td>\n",
       "      <td>0</td>\n",
       "      <td>0</td>\n",
       "      <td>0</td>\n",
       "      <td>0</td>\n",
       "    </tr>\n",
       "    <tr>\n",
       "      <th>59994</th>\n",
       "      <td>neg</td>\n",
       "      <td>32</td>\n",
       "      <td>0</td>\n",
       "      <td>0</td>\n",
       "      <td>na</td>\n",
       "      <td>0</td>\n",
       "      <td>0</td>\n",
       "      <td>0</td>\n",
       "      <td>0</td>\n",
       "      <td>0</td>\n",
       "      <td>...</td>\n",
       "      <td>258</td>\n",
       "      <td>98</td>\n",
       "      <td>224</td>\n",
       "      <td>166</td>\n",
       "      <td>36</td>\n",
       "      <td>486</td>\n",
       "      <td>0</td>\n",
       "      <td>0</td>\n",
       "      <td>0</td>\n",
       "      <td>0</td>\n",
       "    </tr>\n",
       "    <tr>\n",
       "      <th>59995</th>\n",
       "      <td>neg</td>\n",
       "      <td>153002</td>\n",
       "      <td>na</td>\n",
       "      <td>664</td>\n",
       "      <td>186</td>\n",
       "      <td>0</td>\n",
       "      <td>0</td>\n",
       "      <td>0</td>\n",
       "      <td>0</td>\n",
       "      <td>0</td>\n",
       "      <td>...</td>\n",
       "      <td>998500</td>\n",
       "      <td>566884</td>\n",
       "      <td>1290398</td>\n",
       "      <td>1218244</td>\n",
       "      <td>1019768</td>\n",
       "      <td>717762</td>\n",
       "      <td>898642</td>\n",
       "      <td>28588</td>\n",
       "      <td>0</td>\n",
       "      <td>0</td>\n",
       "    </tr>\n",
       "    <tr>\n",
       "      <th>59996</th>\n",
       "      <td>neg</td>\n",
       "      <td>2286</td>\n",
       "      <td>na</td>\n",
       "      <td>2130706538</td>\n",
       "      <td>224</td>\n",
       "      <td>0</td>\n",
       "      <td>0</td>\n",
       "      <td>0</td>\n",
       "      <td>0</td>\n",
       "      <td>0</td>\n",
       "      <td>...</td>\n",
       "      <td>10578</td>\n",
       "      <td>6760</td>\n",
       "      <td>21126</td>\n",
       "      <td>68424</td>\n",
       "      <td>136</td>\n",
       "      <td>0</td>\n",
       "      <td>0</td>\n",
       "      <td>0</td>\n",
       "      <td>0</td>\n",
       "      <td>0</td>\n",
       "    </tr>\n",
       "    <tr>\n",
       "      <th>59997</th>\n",
       "      <td>neg</td>\n",
       "      <td>112</td>\n",
       "      <td>0</td>\n",
       "      <td>2130706432</td>\n",
       "      <td>18</td>\n",
       "      <td>0</td>\n",
       "      <td>0</td>\n",
       "      <td>0</td>\n",
       "      <td>0</td>\n",
       "      <td>0</td>\n",
       "      <td>...</td>\n",
       "      <td>792</td>\n",
       "      <td>386</td>\n",
       "      <td>452</td>\n",
       "      <td>144</td>\n",
       "      <td>146</td>\n",
       "      <td>2622</td>\n",
       "      <td>0</td>\n",
       "      <td>0</td>\n",
       "      <td>0</td>\n",
       "      <td>0</td>\n",
       "    </tr>\n",
       "    <tr>\n",
       "      <th>59998</th>\n",
       "      <td>neg</td>\n",
       "      <td>80292</td>\n",
       "      <td>na</td>\n",
       "      <td>2130706432</td>\n",
       "      <td>494</td>\n",
       "      <td>0</td>\n",
       "      <td>0</td>\n",
       "      <td>0</td>\n",
       "      <td>0</td>\n",
       "      <td>0</td>\n",
       "      <td>...</td>\n",
       "      <td>699352</td>\n",
       "      <td>222654</td>\n",
       "      <td>347378</td>\n",
       "      <td>225724</td>\n",
       "      <td>194440</td>\n",
       "      <td>165070</td>\n",
       "      <td>802280</td>\n",
       "      <td>388422</td>\n",
       "      <td>0</td>\n",
       "      <td>0</td>\n",
       "    </tr>\n",
       "    <tr>\n",
       "      <th>59999</th>\n",
       "      <td>neg</td>\n",
       "      <td>40222</td>\n",
       "      <td>na</td>\n",
       "      <td>698</td>\n",
       "      <td>628</td>\n",
       "      <td>0</td>\n",
       "      <td>0</td>\n",
       "      <td>0</td>\n",
       "      <td>0</td>\n",
       "      <td>0</td>\n",
       "      <td>...</td>\n",
       "      <td>440066</td>\n",
       "      <td>183200</td>\n",
       "      <td>344546</td>\n",
       "      <td>254068</td>\n",
       "      <td>225148</td>\n",
       "      <td>158304</td>\n",
       "      <td>170384</td>\n",
       "      <td>158</td>\n",
       "      <td>0</td>\n",
       "      <td>0</td>\n",
       "    </tr>\n",
       "  </tbody>\n",
       "</table>\n",
       "<p>10 rows × 171 columns</p>\n",
       "</div>"
      ],
      "text/plain": [
       "      class  aa_000 ab_000      ac_000 ad_000 ae_000 af_000 ag_000 ag_001  \\\n",
       "59990   neg   81354     na  2130706432    156      0      0      0      0   \n",
       "59991   neg   39308     na         452    374      0      0      0      0   \n",
       "59992   neg      14      0           2      2      0      0      0      0   \n",
       "59993   neg       0      2           0      0      0      0      0      0   \n",
       "59994   neg      32      0           0     na      0      0      0      0   \n",
       "59995   neg  153002     na         664    186      0      0      0      0   \n",
       "59996   neg    2286     na  2130706538    224      0      0      0      0   \n",
       "59997   neg     112      0  2130706432     18      0      0      0      0   \n",
       "59998   neg   80292     na  2130706432    494      0      0      0      0   \n",
       "59999   neg   40222     na         698    628      0      0      0      0   \n",
       "\n",
       "      ag_002  ...  ee_002  ee_003   ee_004   ee_005   ee_006  ee_007  ee_008  \\\n",
       "59990      0  ...  627610  376028   931828  1035236   674626  161266    3284   \n",
       "59991      0  ...  312426  161694   323438   292350   250112  157636  234932   \n",
       "59992      0  ...     132      44       80       52       54       0       0   \n",
       "59993      0  ...       0       0        0        0        0       0       0   \n",
       "59994      0  ...     258      98      224      166       36     486       0   \n",
       "59995      0  ...  998500  566884  1290398  1218244  1019768  717762  898642   \n",
       "59996      0  ...   10578    6760    21126    68424      136       0       0   \n",
       "59997      0  ...     792     386      452      144      146    2622       0   \n",
       "59998      0  ...  699352  222654   347378   225724   194440  165070  802280   \n",
       "59999      0  ...  440066  183200   344546   254068   225148  158304  170384   \n",
       "\n",
       "       ee_009 ef_000 eg_000  \n",
       "59990       0      0      0  \n",
       "59991    9506      0      0  \n",
       "59992       0      0      0  \n",
       "59993       0      0      0  \n",
       "59994       0      0      0  \n",
       "59995   28588      0      0  \n",
       "59996       0      0      0  \n",
       "59997       0      0      0  \n",
       "59998  388422      0      0  \n",
       "59999     158      0      0  \n",
       "\n",
       "[10 rows x 171 columns]"
      ]
     },
     "execution_count": 4,
     "metadata": {},
     "output_type": "execute_result"
    }
   ],
   "source": [
    "aps_failure_df.tail(10)"
   ]
  },
  {
   "cell_type": "markdown",
   "id": "c308b38f",
   "metadata": {},
   "source": [
    "Reading the first 10 rows of the dataset to understand what information we have. As we already know the information is related to failures of the components. This is divided into positive classes for the component failures related to the Air Pressure system (APS) and the negative class for the component failures not related to APS. Except for the column class, most of the information seems to be numerical. Also, there is some information with the value \"na\" (Not Applicable), meaning there is information there that could not be interpreted or is not available. We should turn it into numbers too for our future analysis."
   ]
  },
  {
   "cell_type": "code",
   "execution_count": 5,
   "id": "dd06a99a",
   "metadata": {},
   "outputs": [
    {
     "data": {
      "text/plain": [
       "(60000, 171)"
      ]
     },
     "execution_count": 5,
     "metadata": {},
     "output_type": "execute_result"
    }
   ],
   "source": [
    "aps_failure_df.shape"
   ]
  },
  {
   "cell_type": "code",
   "execution_count": 6,
   "id": "e6aea132",
   "metadata": {},
   "outputs": [
    {
     "data": {
      "text/plain": [
       "class     60000\n",
       "aa_000    60000\n",
       "ab_000    60000\n",
       "ac_000    60000\n",
       "ad_000    60000\n",
       "          ...  \n",
       "ee_007    60000\n",
       "ee_008    60000\n",
       "ee_009    60000\n",
       "ef_000    60000\n",
       "eg_000    60000\n",
       "Length: 171, dtype: int64"
      ]
     },
     "execution_count": 6,
     "metadata": {},
     "output_type": "execute_result"
    }
   ],
   "source": [
    "aps_failure_df.count()"
   ]
  },
  {
   "cell_type": "markdown",
   "id": "301ec5c0",
   "metadata": {},
   "source": [
    "Gathering more information about the size of our dataset we can understand we have 60000 rows and 171 columns. By the number of columns (features), we will need to reduce this amount of data so we can filter the information that is most relevant and start to make a better analysis."
   ]
  },
  {
   "cell_type": "code",
   "execution_count": 7,
   "id": "c6523403",
   "metadata": {},
   "outputs": [
    {
     "data": {
      "text/plain": [
       "class     object\n",
       "aa_000     int64\n",
       "ab_000    object\n",
       "ac_000    object\n",
       "ad_000    object\n",
       "           ...  \n",
       "ee_007    object\n",
       "ee_008    object\n",
       "ee_009    object\n",
       "ef_000    object\n",
       "eg_000    object\n",
       "Length: 171, dtype: object"
      ]
     },
     "execution_count": 7,
     "metadata": {},
     "output_type": "execute_result"
    }
   ],
   "source": [
    "aps_failure_df.dtypes"
   ]
  },
  {
   "cell_type": "markdown",
   "id": "75b81bb3",
   "metadata": {},
   "source": [
    "We can see we have an object as the type of information (string) meaning most of the numbers are actually text (except for the column aa_000) so this should be converted to number type (integer) so we are able to continue our analysis further."
   ]
  },
  {
   "cell_type": "code",
   "execution_count": 8,
   "id": "4927af6e",
   "metadata": {
    "scrolled": false
   },
   "outputs": [
    {
     "data": {
      "text/plain": [
       "array(['na', '0', '2', '4', '6', '8', '18', '10', '12', '16', '204', '24',\n",
       "       '134', '90', '26', '14', '34', '52', '20', '22', '30', '36', '100',\n",
       "       '48', '58', '32', '28', '44', '46', '68'], dtype=object)"
      ]
     },
     "execution_count": 8,
     "metadata": {},
     "output_type": "execute_result"
    }
   ],
   "source": [
    "aps_failure_df['ab_000'].unique()"
   ]
  },
  {
   "cell_type": "code",
   "execution_count": 9,
   "id": "eee18171",
   "metadata": {
    "scrolled": true
   },
   "outputs": [
    {
     "data": {
      "text/plain": [
       "array(['280', 'na', '100', ..., '5286', '3608', '194868'], dtype=object)"
      ]
     },
     "execution_count": 9,
     "metadata": {},
     "output_type": "execute_result"
    }
   ],
   "source": [
    "aps_failure_df['ad_000'].unique()"
   ]
  },
  {
   "cell_type": "markdown",
   "id": "7cf4aabf",
   "metadata": {},
   "source": [
    "First, we will deal with the not available information. We identify there are unique values for the not available information (\"na\"). "
   ]
  },
  {
   "cell_type": "code",
   "execution_count": 10,
   "id": "d382b74e",
   "metadata": {},
   "outputs": [
    {
     "name": "stdout",
     "output_type": "stream",
     "text": [
      "number of duplicate rows:  (0, 171)\n"
     ]
    }
   ],
   "source": [
    "duplicate_rows_df = aps_failure_df[aps_failure_df.duplicated()] \n",
    "print(\"number of duplicate rows: \", duplicate_rows_df.shape)"
   ]
  },
  {
   "cell_type": "markdown",
   "id": "11407060",
   "metadata": {},
   "source": [
    "Verifying there are not any duplicate values in our dataset, in case we need to delete them to avoid leading to any confusion. The number 0 shows that in all of the rows there are no repeated values."
   ]
  },
  {
   "cell_type": "code",
   "execution_count": 11,
   "id": "7ee2c1e1",
   "metadata": {
    "scrolled": true
   },
   "outputs": [
    {
     "name": "stdout",
     "output_type": "stream",
     "text": [
      "class     0\n",
      "aa_000    0\n",
      "ab_000    0\n",
      "ac_000    0\n",
      "ad_000    0\n",
      "         ..\n",
      "ee_007    0\n",
      "ee_008    0\n",
      "ee_009    0\n",
      "ef_000    0\n",
      "eg_000    0\n",
      "Length: 171, dtype: int64\n"
     ]
    }
   ],
   "source": [
    "print(aps_failure_df.isnull().sum())"
   ]
  },
  {
   "cell_type": "markdown",
   "id": "60ad26b6",
   "metadata": {},
   "source": [
    "Verifying there are not any empty values in our dataset. The number 0 shows in all of the rows there are no empty values."
   ]
  },
  {
   "cell_type": "code",
   "execution_count": 12,
   "id": "e0c1399b",
   "metadata": {},
   "outputs": [],
   "source": [
    "missing_values = ['na']\n",
    "aps_failure_df = pd.read_csv('aps_failure_set.csv',na_values=missing_values)"
   ]
  },
  {
   "cell_type": "markdown",
   "id": "2a435eb2",
   "metadata": {},
   "source": [
    "By replacing the \"na\" (Not available) values to \"Nan\" (Not As numbers) values or, in this case, defining the missing values, we are able to work with them in the code further (Note: the database does not recognize \"na\" values)."
   ]
  },
  {
   "cell_type": "code",
   "execution_count": 13,
   "id": "b613fe77",
   "metadata": {
    "scrolled": true
   },
   "outputs": [
    {
     "data": {
      "text/plain": [
       "array([ nan,   0.,   2.,   4.,   6.,   8.,  18.,  10.,  12.,  16., 204.,\n",
       "        24., 134.,  90.,  26.,  14.,  34.,  52.,  20.,  22.,  30.,  36.,\n",
       "       100.,  48.,  58.,  32.,  28.,  44.,  46.,  68.])"
      ]
     },
     "execution_count": 13,
     "metadata": {},
     "output_type": "execute_result"
    }
   ],
   "source": [
    "aps_failure_df['ab_000'].unique()"
   ]
  },
  {
   "cell_type": "markdown",
   "id": "bf77b307",
   "metadata": {},
   "source": [
    "Confirming the change of the values was correctly made. Now we can see the values as \"Nan\"."
   ]
  },
  {
   "cell_type": "code",
   "execution_count": 14,
   "id": "415623e3",
   "metadata": {
    "scrolled": true
   },
   "outputs": [
    {
     "data": {
      "text/html": [
       "<div>\n",
       "<style scoped>\n",
       "    .dataframe tbody tr th:only-of-type {\n",
       "        vertical-align: middle;\n",
       "    }\n",
       "\n",
       "    .dataframe tbody tr th {\n",
       "        vertical-align: top;\n",
       "    }\n",
       "\n",
       "    .dataframe thead th {\n",
       "        text-align: right;\n",
       "    }\n",
       "</style>\n",
       "<table border=\"1\" class=\"dataframe\">\n",
       "  <thead>\n",
       "    <tr style=\"text-align: right;\">\n",
       "      <th></th>\n",
       "      <th>class</th>\n",
       "      <th>aa_000</th>\n",
       "      <th>ab_000</th>\n",
       "      <th>ac_000</th>\n",
       "      <th>ad_000</th>\n",
       "      <th>ae_000</th>\n",
       "      <th>af_000</th>\n",
       "      <th>ag_000</th>\n",
       "      <th>ag_001</th>\n",
       "      <th>ag_002</th>\n",
       "      <th>...</th>\n",
       "      <th>ee_002</th>\n",
       "      <th>ee_003</th>\n",
       "      <th>ee_004</th>\n",
       "      <th>ee_005</th>\n",
       "      <th>ee_006</th>\n",
       "      <th>ee_007</th>\n",
       "      <th>ee_008</th>\n",
       "      <th>ee_009</th>\n",
       "      <th>ef_000</th>\n",
       "      <th>eg_000</th>\n",
       "    </tr>\n",
       "  </thead>\n",
       "  <tbody>\n",
       "    <tr>\n",
       "      <th>0</th>\n",
       "      <td>neg</td>\n",
       "      <td>76698</td>\n",
       "      <td>0.0</td>\n",
       "      <td>2.130706e+09</td>\n",
       "      <td>280.0</td>\n",
       "      <td>0.0</td>\n",
       "      <td>0.0</td>\n",
       "      <td>0.0</td>\n",
       "      <td>0.0</td>\n",
       "      <td>0.0</td>\n",
       "      <td>...</td>\n",
       "      <td>1240520.0</td>\n",
       "      <td>493384.0</td>\n",
       "      <td>721044.0</td>\n",
       "      <td>469792.0</td>\n",
       "      <td>339156.0</td>\n",
       "      <td>157956.0</td>\n",
       "      <td>73224.0</td>\n",
       "      <td>0.0</td>\n",
       "      <td>0.0</td>\n",
       "      <td>0.0</td>\n",
       "    </tr>\n",
       "    <tr>\n",
       "      <th>1</th>\n",
       "      <td>neg</td>\n",
       "      <td>33058</td>\n",
       "      <td>0.0</td>\n",
       "      <td>0.000000e+00</td>\n",
       "      <td>126.0</td>\n",
       "      <td>0.0</td>\n",
       "      <td>0.0</td>\n",
       "      <td>0.0</td>\n",
       "      <td>0.0</td>\n",
       "      <td>0.0</td>\n",
       "      <td>...</td>\n",
       "      <td>421400.0</td>\n",
       "      <td>178064.0</td>\n",
       "      <td>293306.0</td>\n",
       "      <td>245416.0</td>\n",
       "      <td>133654.0</td>\n",
       "      <td>81140.0</td>\n",
       "      <td>97576.0</td>\n",
       "      <td>1500.0</td>\n",
       "      <td>0.0</td>\n",
       "      <td>0.0</td>\n",
       "    </tr>\n",
       "    <tr>\n",
       "      <th>2</th>\n",
       "      <td>neg</td>\n",
       "      <td>41040</td>\n",
       "      <td>0.0</td>\n",
       "      <td>2.280000e+02</td>\n",
       "      <td>100.0</td>\n",
       "      <td>0.0</td>\n",
       "      <td>0.0</td>\n",
       "      <td>0.0</td>\n",
       "      <td>0.0</td>\n",
       "      <td>0.0</td>\n",
       "      <td>...</td>\n",
       "      <td>277378.0</td>\n",
       "      <td>159812.0</td>\n",
       "      <td>423992.0</td>\n",
       "      <td>409564.0</td>\n",
       "      <td>320746.0</td>\n",
       "      <td>158022.0</td>\n",
       "      <td>95128.0</td>\n",
       "      <td>514.0</td>\n",
       "      <td>0.0</td>\n",
       "      <td>0.0</td>\n",
       "    </tr>\n",
       "    <tr>\n",
       "      <th>3</th>\n",
       "      <td>neg</td>\n",
       "      <td>12</td>\n",
       "      <td>0.0</td>\n",
       "      <td>7.000000e+01</td>\n",
       "      <td>66.0</td>\n",
       "      <td>0.0</td>\n",
       "      <td>10.0</td>\n",
       "      <td>0.0</td>\n",
       "      <td>0.0</td>\n",
       "      <td>0.0</td>\n",
       "      <td>...</td>\n",
       "      <td>240.0</td>\n",
       "      <td>46.0</td>\n",
       "      <td>58.0</td>\n",
       "      <td>44.0</td>\n",
       "      <td>10.0</td>\n",
       "      <td>0.0</td>\n",
       "      <td>0.0</td>\n",
       "      <td>0.0</td>\n",
       "      <td>4.0</td>\n",
       "      <td>32.0</td>\n",
       "    </tr>\n",
       "    <tr>\n",
       "      <th>4</th>\n",
       "      <td>neg</td>\n",
       "      <td>60874</td>\n",
       "      <td>0.0</td>\n",
       "      <td>1.368000e+03</td>\n",
       "      <td>458.0</td>\n",
       "      <td>0.0</td>\n",
       "      <td>0.0</td>\n",
       "      <td>0.0</td>\n",
       "      <td>0.0</td>\n",
       "      <td>0.0</td>\n",
       "      <td>...</td>\n",
       "      <td>622012.0</td>\n",
       "      <td>229790.0</td>\n",
       "      <td>405298.0</td>\n",
       "      <td>347188.0</td>\n",
       "      <td>286954.0</td>\n",
       "      <td>311560.0</td>\n",
       "      <td>433954.0</td>\n",
       "      <td>1218.0</td>\n",
       "      <td>0.0</td>\n",
       "      <td>0.0</td>\n",
       "    </tr>\n",
       "    <tr>\n",
       "      <th>5</th>\n",
       "      <td>neg</td>\n",
       "      <td>38312</td>\n",
       "      <td>0.0</td>\n",
       "      <td>2.130706e+09</td>\n",
       "      <td>218.0</td>\n",
       "      <td>0.0</td>\n",
       "      <td>0.0</td>\n",
       "      <td>0.0</td>\n",
       "      <td>0.0</td>\n",
       "      <td>0.0</td>\n",
       "      <td>...</td>\n",
       "      <td>388574.0</td>\n",
       "      <td>288278.0</td>\n",
       "      <td>900430.0</td>\n",
       "      <td>300412.0</td>\n",
       "      <td>1534.0</td>\n",
       "      <td>338.0</td>\n",
       "      <td>856.0</td>\n",
       "      <td>0.0</td>\n",
       "      <td>0.0</td>\n",
       "      <td>0.0</td>\n",
       "    </tr>\n",
       "    <tr>\n",
       "      <th>6</th>\n",
       "      <td>neg</td>\n",
       "      <td>14</td>\n",
       "      <td>0.0</td>\n",
       "      <td>6.000000e+00</td>\n",
       "      <td>126.0</td>\n",
       "      <td>0.0</td>\n",
       "      <td>0.0</td>\n",
       "      <td>0.0</td>\n",
       "      <td>0.0</td>\n",
       "      <td>0.0</td>\n",
       "      <td>...</td>\n",
       "      <td>168.0</td>\n",
       "      <td>48.0</td>\n",
       "      <td>60.0</td>\n",
       "      <td>28.0</td>\n",
       "      <td>0.0</td>\n",
       "      <td>0.0</td>\n",
       "      <td>0.0</td>\n",
       "      <td>0.0</td>\n",
       "      <td>0.0</td>\n",
       "      <td>0.0</td>\n",
       "    </tr>\n",
       "    <tr>\n",
       "      <th>7</th>\n",
       "      <td>neg</td>\n",
       "      <td>102960</td>\n",
       "      <td>0.0</td>\n",
       "      <td>2.130706e+09</td>\n",
       "      <td>116.0</td>\n",
       "      <td>0.0</td>\n",
       "      <td>0.0</td>\n",
       "      <td>0.0</td>\n",
       "      <td>0.0</td>\n",
       "      <td>0.0</td>\n",
       "      <td>...</td>\n",
       "      <td>715518.0</td>\n",
       "      <td>384948.0</td>\n",
       "      <td>915978.0</td>\n",
       "      <td>1052166.0</td>\n",
       "      <td>1108672.0</td>\n",
       "      <td>341532.0</td>\n",
       "      <td>129504.0</td>\n",
       "      <td>7832.0</td>\n",
       "      <td>0.0</td>\n",
       "      <td>0.0</td>\n",
       "    </tr>\n",
       "    <tr>\n",
       "      <th>8</th>\n",
       "      <td>neg</td>\n",
       "      <td>78696</td>\n",
       "      <td>0.0</td>\n",
       "      <td>0.000000e+00</td>\n",
       "      <td>126.0</td>\n",
       "      <td>0.0</td>\n",
       "      <td>0.0</td>\n",
       "      <td>0.0</td>\n",
       "      <td>0.0</td>\n",
       "      <td>0.0</td>\n",
       "      <td>...</td>\n",
       "      <td>699290.0</td>\n",
       "      <td>362510.0</td>\n",
       "      <td>1190028.0</td>\n",
       "      <td>1012704.0</td>\n",
       "      <td>160090.0</td>\n",
       "      <td>63216.0</td>\n",
       "      <td>41202.0</td>\n",
       "      <td>4.0</td>\n",
       "      <td>0.0</td>\n",
       "      <td>0.0</td>\n",
       "    </tr>\n",
       "    <tr>\n",
       "      <th>9</th>\n",
       "      <td>pos</td>\n",
       "      <td>153204</td>\n",
       "      <td>0.0</td>\n",
       "      <td>1.820000e+02</td>\n",
       "      <td>126.0</td>\n",
       "      <td>0.0</td>\n",
       "      <td>0.0</td>\n",
       "      <td>0.0</td>\n",
       "      <td>0.0</td>\n",
       "      <td>0.0</td>\n",
       "      <td>...</td>\n",
       "      <td>129862.0</td>\n",
       "      <td>26872.0</td>\n",
       "      <td>34044.0</td>\n",
       "      <td>22472.0</td>\n",
       "      <td>34362.0</td>\n",
       "      <td>0.0</td>\n",
       "      <td>0.0</td>\n",
       "      <td>0.0</td>\n",
       "      <td>0.0</td>\n",
       "      <td>0.0</td>\n",
       "    </tr>\n",
       "  </tbody>\n",
       "</table>\n",
       "<p>10 rows × 171 columns</p>\n",
       "</div>"
      ],
      "text/plain": [
       "  class  aa_000  ab_000        ac_000  ad_000  ae_000  af_000  ag_000  ag_001  \\\n",
       "0   neg   76698     0.0  2.130706e+09   280.0     0.0     0.0     0.0     0.0   \n",
       "1   neg   33058     0.0  0.000000e+00   126.0     0.0     0.0     0.0     0.0   \n",
       "2   neg   41040     0.0  2.280000e+02   100.0     0.0     0.0     0.0     0.0   \n",
       "3   neg      12     0.0  7.000000e+01    66.0     0.0    10.0     0.0     0.0   \n",
       "4   neg   60874     0.0  1.368000e+03   458.0     0.0     0.0     0.0     0.0   \n",
       "5   neg   38312     0.0  2.130706e+09   218.0     0.0     0.0     0.0     0.0   \n",
       "6   neg      14     0.0  6.000000e+00   126.0     0.0     0.0     0.0     0.0   \n",
       "7   neg  102960     0.0  2.130706e+09   116.0     0.0     0.0     0.0     0.0   \n",
       "8   neg   78696     0.0  0.000000e+00   126.0     0.0     0.0     0.0     0.0   \n",
       "9   pos  153204     0.0  1.820000e+02   126.0     0.0     0.0     0.0     0.0   \n",
       "\n",
       "   ag_002  ...     ee_002    ee_003     ee_004     ee_005     ee_006  \\\n",
       "0     0.0  ...  1240520.0  493384.0   721044.0   469792.0   339156.0   \n",
       "1     0.0  ...   421400.0  178064.0   293306.0   245416.0   133654.0   \n",
       "2     0.0  ...   277378.0  159812.0   423992.0   409564.0   320746.0   \n",
       "3     0.0  ...      240.0      46.0       58.0       44.0       10.0   \n",
       "4     0.0  ...   622012.0  229790.0   405298.0   347188.0   286954.0   \n",
       "5     0.0  ...   388574.0  288278.0   900430.0   300412.0     1534.0   \n",
       "6     0.0  ...      168.0      48.0       60.0       28.0        0.0   \n",
       "7     0.0  ...   715518.0  384948.0   915978.0  1052166.0  1108672.0   \n",
       "8     0.0  ...   699290.0  362510.0  1190028.0  1012704.0   160090.0   \n",
       "9     0.0  ...   129862.0   26872.0    34044.0    22472.0    34362.0   \n",
       "\n",
       "     ee_007    ee_008  ee_009  ef_000  eg_000  \n",
       "0  157956.0   73224.0     0.0     0.0     0.0  \n",
       "1   81140.0   97576.0  1500.0     0.0     0.0  \n",
       "2  158022.0   95128.0   514.0     0.0     0.0  \n",
       "3       0.0       0.0     0.0     4.0    32.0  \n",
       "4  311560.0  433954.0  1218.0     0.0     0.0  \n",
       "5     338.0     856.0     0.0     0.0     0.0  \n",
       "6       0.0       0.0     0.0     0.0     0.0  \n",
       "7  341532.0  129504.0  7832.0     0.0     0.0  \n",
       "8   63216.0   41202.0     4.0     0.0     0.0  \n",
       "9       0.0       0.0     0.0     0.0     0.0  \n",
       "\n",
       "[10 rows x 171 columns]"
      ]
     },
     "execution_count": 14,
     "metadata": {},
     "output_type": "execute_result"
    }
   ],
   "source": [
    "aps_failure_df = aps_failure_df.fillna(aps_failure_df.median())\n",
    "aps_failure_df.head(10)"
   ]
  },
  {
   "cell_type": "code",
   "execution_count": 15,
   "id": "787fac66",
   "metadata": {},
   "outputs": [
    {
     "data": {
      "text/plain": [
       "array([  0.,   2.,   4.,   6.,   8.,  18.,  10.,  12.,  16., 204.,  24.,\n",
       "       134.,  90.,  26.,  14.,  34.,  52.,  20.,  22.,  30.,  36., 100.,\n",
       "        48.,  58.,  32.,  28.,  44.,  46.,  68.])"
      ]
     },
     "execution_count": 15,
     "metadata": {},
     "output_type": "execute_result"
    }
   ],
   "source": [
    "aps_failure_df['ab_000'].unique()"
   ]
  },
  {
   "cell_type": "markdown",
   "id": "adcb898b",
   "metadata": {},
   "source": [
    "We have replaced the \"Nan\" values with the median value of the database, meaning we are using a value that is the intermediate of two values the numbers of the dataset to fill out the missing values. We can work with them as a numerical variable and we have defined the missing values to a number that we can use in our analysis. Rowntre (1981, p.44) states that \"the median is quoted as the valuehalf-way between the two middle values.\"."
   ]
  },
  {
   "cell_type": "code",
   "execution_count": 16,
   "id": "f49452aa",
   "metadata": {
    "scrolled": true
   },
   "outputs": [
    {
     "data": {
      "text/plain": [
       "class     60000\n",
       "aa_000    60000\n",
       "ab_000    60000\n",
       "ac_000    60000\n",
       "ad_000    60000\n",
       "          ...  \n",
       "ee_007    60000\n",
       "ee_008    60000\n",
       "ee_009    60000\n",
       "ef_000    60000\n",
       "eg_000    60000\n",
       "Length: 171, dtype: int64"
      ]
     },
     "execution_count": 16,
     "metadata": {},
     "output_type": "execute_result"
    }
   ],
   "source": [
    "aps_failure_df.count()"
   ]
  },
  {
   "cell_type": "code",
   "execution_count": 17,
   "id": "f9e36729",
   "metadata": {
    "scrolled": true
   },
   "outputs": [
    {
     "data": {
      "text/plain": [
       "(60000, 171)"
      ]
     },
     "execution_count": 17,
     "metadata": {},
     "output_type": "execute_result"
    }
   ],
   "source": [
    "aps_failure_df.shape"
   ]
  },
  {
   "cell_type": "markdown",
   "id": "639c1bbf",
   "metadata": {},
   "source": [
    "We can check we do not have any data lost after we made the replacement (60000 rows)."
   ]
  },
  {
   "cell_type": "code",
   "execution_count": 18,
   "id": "138384d9",
   "metadata": {
    "scrolled": true
   },
   "outputs": [
    {
     "data": {
      "text/plain": [
       "class      object\n",
       "aa_000      int64\n",
       "ab_000    float64\n",
       "ac_000    float64\n",
       "ad_000    float64\n",
       "           ...   \n",
       "ee_007    float64\n",
       "ee_008    float64\n",
       "ee_009    float64\n",
       "ef_000    float64\n",
       "eg_000    float64\n",
       "Length: 171, dtype: object"
      ]
     },
     "execution_count": 18,
     "metadata": {},
     "output_type": "execute_result"
    }
   ],
   "source": [
    "aps_failure_df.dtypes"
   ]
  },
  {
   "cell_type": "markdown",
   "id": "b2aa71ef",
   "metadata": {},
   "source": [
    "As we mentioned before we will need to change the format of the numbers that are actually text."
   ]
  },
  {
   "cell_type": "code",
   "execution_count": 19,
   "id": "78545529",
   "metadata": {
    "scrolled": true
   },
   "outputs": [],
   "source": [
    "aps_failure_numbers_df = aps_failure_df.iloc[:,1:-1]\n",
    "aps_failure_text_df = aps_failure_df.iloc[:,0]"
   ]
  },
  {
   "cell_type": "code",
   "execution_count": 20,
   "id": "673d76e8",
   "metadata": {
    "scrolled": false
   },
   "outputs": [
    {
     "data": {
      "text/html": [
       "<div>\n",
       "<style scoped>\n",
       "    .dataframe tbody tr th:only-of-type {\n",
       "        vertical-align: middle;\n",
       "    }\n",
       "\n",
       "    .dataframe tbody tr th {\n",
       "        vertical-align: top;\n",
       "    }\n",
       "\n",
       "    .dataframe thead th {\n",
       "        text-align: right;\n",
       "    }\n",
       "</style>\n",
       "<table border=\"1\" class=\"dataframe\">\n",
       "  <thead>\n",
       "    <tr style=\"text-align: right;\">\n",
       "      <th></th>\n",
       "      <th>aa_000</th>\n",
       "      <th>ab_000</th>\n",
       "      <th>ac_000</th>\n",
       "      <th>ad_000</th>\n",
       "      <th>ae_000</th>\n",
       "      <th>af_000</th>\n",
       "      <th>ag_000</th>\n",
       "      <th>ag_001</th>\n",
       "      <th>ag_002</th>\n",
       "      <th>ag_003</th>\n",
       "      <th>...</th>\n",
       "      <th>ee_001</th>\n",
       "      <th>ee_002</th>\n",
       "      <th>ee_003</th>\n",
       "      <th>ee_004</th>\n",
       "      <th>ee_005</th>\n",
       "      <th>ee_006</th>\n",
       "      <th>ee_007</th>\n",
       "      <th>ee_008</th>\n",
       "      <th>ee_009</th>\n",
       "      <th>ef_000</th>\n",
       "    </tr>\n",
       "  </thead>\n",
       "  <tbody>\n",
       "    <tr>\n",
       "      <th>0</th>\n",
       "      <td>76698</td>\n",
       "      <td>0.0</td>\n",
       "      <td>2.130706e+09</td>\n",
       "      <td>280.0</td>\n",
       "      <td>0.0</td>\n",
       "      <td>0.0</td>\n",
       "      <td>0.0</td>\n",
       "      <td>0.0</td>\n",
       "      <td>0.0</td>\n",
       "      <td>0.0</td>\n",
       "      <td>...</td>\n",
       "      <td>1706908.0</td>\n",
       "      <td>1240520.0</td>\n",
       "      <td>493384.0</td>\n",
       "      <td>721044.0</td>\n",
       "      <td>469792.0</td>\n",
       "      <td>339156.0</td>\n",
       "      <td>157956.0</td>\n",
       "      <td>73224.0</td>\n",
       "      <td>0.0</td>\n",
       "      <td>0.0</td>\n",
       "    </tr>\n",
       "    <tr>\n",
       "      <th>1</th>\n",
       "      <td>33058</td>\n",
       "      <td>0.0</td>\n",
       "      <td>0.000000e+00</td>\n",
       "      <td>126.0</td>\n",
       "      <td>0.0</td>\n",
       "      <td>0.0</td>\n",
       "      <td>0.0</td>\n",
       "      <td>0.0</td>\n",
       "      <td>0.0</td>\n",
       "      <td>0.0</td>\n",
       "      <td>...</td>\n",
       "      <td>824154.0</td>\n",
       "      <td>421400.0</td>\n",
       "      <td>178064.0</td>\n",
       "      <td>293306.0</td>\n",
       "      <td>245416.0</td>\n",
       "      <td>133654.0</td>\n",
       "      <td>81140.0</td>\n",
       "      <td>97576.0</td>\n",
       "      <td>1500.0</td>\n",
       "      <td>0.0</td>\n",
       "    </tr>\n",
       "    <tr>\n",
       "      <th>2</th>\n",
       "      <td>41040</td>\n",
       "      <td>0.0</td>\n",
       "      <td>2.280000e+02</td>\n",
       "      <td>100.0</td>\n",
       "      <td>0.0</td>\n",
       "      <td>0.0</td>\n",
       "      <td>0.0</td>\n",
       "      <td>0.0</td>\n",
       "      <td>0.0</td>\n",
       "      <td>0.0</td>\n",
       "      <td>...</td>\n",
       "      <td>453378.0</td>\n",
       "      <td>277378.0</td>\n",
       "      <td>159812.0</td>\n",
       "      <td>423992.0</td>\n",
       "      <td>409564.0</td>\n",
       "      <td>320746.0</td>\n",
       "      <td>158022.0</td>\n",
       "      <td>95128.0</td>\n",
       "      <td>514.0</td>\n",
       "      <td>0.0</td>\n",
       "    </tr>\n",
       "    <tr>\n",
       "      <th>3</th>\n",
       "      <td>12</td>\n",
       "      <td>0.0</td>\n",
       "      <td>7.000000e+01</td>\n",
       "      <td>66.0</td>\n",
       "      <td>0.0</td>\n",
       "      <td>10.0</td>\n",
       "      <td>0.0</td>\n",
       "      <td>0.0</td>\n",
       "      <td>0.0</td>\n",
       "      <td>318.0</td>\n",
       "      <td>...</td>\n",
       "      <td>1566.0</td>\n",
       "      <td>240.0</td>\n",
       "      <td>46.0</td>\n",
       "      <td>58.0</td>\n",
       "      <td>44.0</td>\n",
       "      <td>10.0</td>\n",
       "      <td>0.0</td>\n",
       "      <td>0.0</td>\n",
       "      <td>0.0</td>\n",
       "      <td>4.0</td>\n",
       "    </tr>\n",
       "    <tr>\n",
       "      <th>4</th>\n",
       "      <td>60874</td>\n",
       "      <td>0.0</td>\n",
       "      <td>1.368000e+03</td>\n",
       "      <td>458.0</td>\n",
       "      <td>0.0</td>\n",
       "      <td>0.0</td>\n",
       "      <td>0.0</td>\n",
       "      <td>0.0</td>\n",
       "      <td>0.0</td>\n",
       "      <td>0.0</td>\n",
       "      <td>...</td>\n",
       "      <td>904230.0</td>\n",
       "      <td>622012.0</td>\n",
       "      <td>229790.0</td>\n",
       "      <td>405298.0</td>\n",
       "      <td>347188.0</td>\n",
       "      <td>286954.0</td>\n",
       "      <td>311560.0</td>\n",
       "      <td>433954.0</td>\n",
       "      <td>1218.0</td>\n",
       "      <td>0.0</td>\n",
       "    </tr>\n",
       "  </tbody>\n",
       "</table>\n",
       "<p>5 rows × 169 columns</p>\n",
       "</div>"
      ],
      "text/plain": [
       "   aa_000  ab_000        ac_000  ad_000  ae_000  af_000  ag_000  ag_001  \\\n",
       "0   76698     0.0  2.130706e+09   280.0     0.0     0.0     0.0     0.0   \n",
       "1   33058     0.0  0.000000e+00   126.0     0.0     0.0     0.0     0.0   \n",
       "2   41040     0.0  2.280000e+02   100.0     0.0     0.0     0.0     0.0   \n",
       "3      12     0.0  7.000000e+01    66.0     0.0    10.0     0.0     0.0   \n",
       "4   60874     0.0  1.368000e+03   458.0     0.0     0.0     0.0     0.0   \n",
       "\n",
       "   ag_002  ag_003  ...     ee_001     ee_002    ee_003    ee_004    ee_005  \\\n",
       "0     0.0     0.0  ...  1706908.0  1240520.0  493384.0  721044.0  469792.0   \n",
       "1     0.0     0.0  ...   824154.0   421400.0  178064.0  293306.0  245416.0   \n",
       "2     0.0     0.0  ...   453378.0   277378.0  159812.0  423992.0  409564.0   \n",
       "3     0.0   318.0  ...     1566.0      240.0      46.0      58.0      44.0   \n",
       "4     0.0     0.0  ...   904230.0   622012.0  229790.0  405298.0  347188.0   \n",
       "\n",
       "     ee_006    ee_007    ee_008  ee_009  ef_000  \n",
       "0  339156.0  157956.0   73224.0     0.0     0.0  \n",
       "1  133654.0   81140.0   97576.0  1500.0     0.0  \n",
       "2  320746.0  158022.0   95128.0   514.0     0.0  \n",
       "3      10.0       0.0       0.0     0.0     4.0  \n",
       "4  286954.0  311560.0  433954.0  1218.0     0.0  \n",
       "\n",
       "[5 rows x 169 columns]"
      ]
     },
     "execution_count": 20,
     "metadata": {},
     "output_type": "execute_result"
    }
   ],
   "source": [
    "aps_failure_numbers_df.head()"
   ]
  },
  {
   "cell_type": "code",
   "execution_count": 21,
   "id": "3e73013e",
   "metadata": {
    "scrolled": true
   },
   "outputs": [
    {
     "data": {
      "text/plain": [
       "0    neg\n",
       "1    neg\n",
       "2    neg\n",
       "3    neg\n",
       "4    neg\n",
       "Name: class, dtype: object"
      ]
     },
     "execution_count": 21,
     "metadata": {},
     "output_type": "execute_result"
    }
   ],
   "source": [
    "aps_failure_text_df.head()"
   ]
  },
  {
   "cell_type": "markdown",
   "id": "c4dc0ebb",
   "metadata": {},
   "source": [
    "Diving the dataset in two, one for all the numerical information (aps_failure_numbers_df) from the second column (after the class column) to the last column, and the other part is for the text information (the class as the first column that we called as \"aps_failure_text_df\"). To manipulate the dataset better and convert the numbers from text to numerical information."
   ]
  },
  {
   "cell_type": "code",
   "execution_count": 22,
   "id": "bb564e83",
   "metadata": {},
   "outputs": [],
   "source": [
    "aps_failure_numbers_df = aps_failure_numbers_df.astype(int)"
   ]
  },
  {
   "cell_type": "code",
   "execution_count": 23,
   "id": "10a5da91",
   "metadata": {
    "scrolled": true
   },
   "outputs": [
    {
     "data": {
      "text/plain": [
       "aa_000    int32\n",
       "ab_000    int32\n",
       "ac_000    int32\n",
       "ad_000    int32\n",
       "ae_000    int32\n",
       "          ...  \n",
       "ee_006    int32\n",
       "ee_007    int32\n",
       "ee_008    int32\n",
       "ee_009    int32\n",
       "ef_000    int32\n",
       "Length: 169, dtype: object"
      ]
     },
     "execution_count": 23,
     "metadata": {},
     "output_type": "execute_result"
    }
   ],
   "source": [
    "aps_failure_numbers_df.dtypes"
   ]
  },
  {
   "cell_type": "markdown",
   "id": "fb3d787a",
   "metadata": {},
   "source": [
    "Converting the numbers from text to numbers (integer)."
   ]
  },
  {
   "cell_type": "code",
   "execution_count": 180,
   "id": "6e2f5999",
   "metadata": {},
   "outputs": [],
   "source": [
    "new_aps_failure_df = pd.concat([aps_failure_numbers_df,aps_failure_text_df],axis=1, join=\"inner\")"
   ]
  },
  {
   "cell_type": "code",
   "execution_count": 181,
   "id": "b1fde6bd",
   "metadata": {},
   "outputs": [
    {
     "data": {
      "text/html": [
       "<div>\n",
       "<style scoped>\n",
       "    .dataframe tbody tr th:only-of-type {\n",
       "        vertical-align: middle;\n",
       "    }\n",
       "\n",
       "    .dataframe tbody tr th {\n",
       "        vertical-align: top;\n",
       "    }\n",
       "\n",
       "    .dataframe thead th {\n",
       "        text-align: right;\n",
       "    }\n",
       "</style>\n",
       "<table border=\"1\" class=\"dataframe\">\n",
       "  <thead>\n",
       "    <tr style=\"text-align: right;\">\n",
       "      <th></th>\n",
       "      <th>aa_000</th>\n",
       "      <th>ab_000</th>\n",
       "      <th>ac_000</th>\n",
       "      <th>ad_000</th>\n",
       "      <th>ae_000</th>\n",
       "      <th>af_000</th>\n",
       "      <th>ag_000</th>\n",
       "      <th>ag_001</th>\n",
       "      <th>ag_002</th>\n",
       "      <th>ag_003</th>\n",
       "      <th>...</th>\n",
       "      <th>ee_002</th>\n",
       "      <th>ee_003</th>\n",
       "      <th>ee_004</th>\n",
       "      <th>ee_005</th>\n",
       "      <th>ee_006</th>\n",
       "      <th>ee_007</th>\n",
       "      <th>ee_008</th>\n",
       "      <th>ee_009</th>\n",
       "      <th>ef_000</th>\n",
       "      <th>class</th>\n",
       "    </tr>\n",
       "  </thead>\n",
       "  <tbody>\n",
       "    <tr>\n",
       "      <th>0</th>\n",
       "      <td>76698</td>\n",
       "      <td>0</td>\n",
       "      <td>2130706438</td>\n",
       "      <td>280</td>\n",
       "      <td>0</td>\n",
       "      <td>0</td>\n",
       "      <td>0</td>\n",
       "      <td>0</td>\n",
       "      <td>0</td>\n",
       "      <td>0</td>\n",
       "      <td>...</td>\n",
       "      <td>1240520</td>\n",
       "      <td>493384</td>\n",
       "      <td>721044</td>\n",
       "      <td>469792</td>\n",
       "      <td>339156</td>\n",
       "      <td>157956</td>\n",
       "      <td>73224</td>\n",
       "      <td>0</td>\n",
       "      <td>0</td>\n",
       "      <td>neg</td>\n",
       "    </tr>\n",
       "    <tr>\n",
       "      <th>1</th>\n",
       "      <td>33058</td>\n",
       "      <td>0</td>\n",
       "      <td>0</td>\n",
       "      <td>126</td>\n",
       "      <td>0</td>\n",
       "      <td>0</td>\n",
       "      <td>0</td>\n",
       "      <td>0</td>\n",
       "      <td>0</td>\n",
       "      <td>0</td>\n",
       "      <td>...</td>\n",
       "      <td>421400</td>\n",
       "      <td>178064</td>\n",
       "      <td>293306</td>\n",
       "      <td>245416</td>\n",
       "      <td>133654</td>\n",
       "      <td>81140</td>\n",
       "      <td>97576</td>\n",
       "      <td>1500</td>\n",
       "      <td>0</td>\n",
       "      <td>neg</td>\n",
       "    </tr>\n",
       "    <tr>\n",
       "      <th>2</th>\n",
       "      <td>41040</td>\n",
       "      <td>0</td>\n",
       "      <td>228</td>\n",
       "      <td>100</td>\n",
       "      <td>0</td>\n",
       "      <td>0</td>\n",
       "      <td>0</td>\n",
       "      <td>0</td>\n",
       "      <td>0</td>\n",
       "      <td>0</td>\n",
       "      <td>...</td>\n",
       "      <td>277378</td>\n",
       "      <td>159812</td>\n",
       "      <td>423992</td>\n",
       "      <td>409564</td>\n",
       "      <td>320746</td>\n",
       "      <td>158022</td>\n",
       "      <td>95128</td>\n",
       "      <td>514</td>\n",
       "      <td>0</td>\n",
       "      <td>neg</td>\n",
       "    </tr>\n",
       "    <tr>\n",
       "      <th>3</th>\n",
       "      <td>12</td>\n",
       "      <td>0</td>\n",
       "      <td>70</td>\n",
       "      <td>66</td>\n",
       "      <td>0</td>\n",
       "      <td>10</td>\n",
       "      <td>0</td>\n",
       "      <td>0</td>\n",
       "      <td>0</td>\n",
       "      <td>318</td>\n",
       "      <td>...</td>\n",
       "      <td>240</td>\n",
       "      <td>46</td>\n",
       "      <td>58</td>\n",
       "      <td>44</td>\n",
       "      <td>10</td>\n",
       "      <td>0</td>\n",
       "      <td>0</td>\n",
       "      <td>0</td>\n",
       "      <td>4</td>\n",
       "      <td>neg</td>\n",
       "    </tr>\n",
       "    <tr>\n",
       "      <th>4</th>\n",
       "      <td>60874</td>\n",
       "      <td>0</td>\n",
       "      <td>1368</td>\n",
       "      <td>458</td>\n",
       "      <td>0</td>\n",
       "      <td>0</td>\n",
       "      <td>0</td>\n",
       "      <td>0</td>\n",
       "      <td>0</td>\n",
       "      <td>0</td>\n",
       "      <td>...</td>\n",
       "      <td>622012</td>\n",
       "      <td>229790</td>\n",
       "      <td>405298</td>\n",
       "      <td>347188</td>\n",
       "      <td>286954</td>\n",
       "      <td>311560</td>\n",
       "      <td>433954</td>\n",
       "      <td>1218</td>\n",
       "      <td>0</td>\n",
       "      <td>neg</td>\n",
       "    </tr>\n",
       "  </tbody>\n",
       "</table>\n",
       "<p>5 rows × 170 columns</p>\n",
       "</div>"
      ],
      "text/plain": [
       "   aa_000  ab_000      ac_000  ad_000  ae_000  af_000  ag_000  ag_001  ag_002  \\\n",
       "0   76698       0  2130706438     280       0       0       0       0       0   \n",
       "1   33058       0           0     126       0       0       0       0       0   \n",
       "2   41040       0         228     100       0       0       0       0       0   \n",
       "3      12       0          70      66       0      10       0       0       0   \n",
       "4   60874       0        1368     458       0       0       0       0       0   \n",
       "\n",
       "   ag_003  ...   ee_002  ee_003  ee_004  ee_005  ee_006  ee_007  ee_008  \\\n",
       "0       0  ...  1240520  493384  721044  469792  339156  157956   73224   \n",
       "1       0  ...   421400  178064  293306  245416  133654   81140   97576   \n",
       "2       0  ...   277378  159812  423992  409564  320746  158022   95128   \n",
       "3     318  ...      240      46      58      44      10       0       0   \n",
       "4       0  ...   622012  229790  405298  347188  286954  311560  433954   \n",
       "\n",
       "   ee_009  ef_000  class  \n",
       "0       0       0    neg  \n",
       "1    1500       0    neg  \n",
       "2     514       0    neg  \n",
       "3       0       4    neg  \n",
       "4    1218       0    neg  \n",
       "\n",
       "[5 rows x 170 columns]"
      ]
     },
     "execution_count": 181,
     "metadata": {},
     "output_type": "execute_result"
    }
   ],
   "source": [
    "new_aps_failure_df.head()"
   ]
  },
  {
   "cell_type": "markdown",
   "id": "f2c6acfa",
   "metadata": {},
   "source": [
    "Now that we have successfully changed the format, we are joining the two dataset into one with the information more clean, to continue with the data analysis. We have moved the class column until the end so we can understand that this is the column affected (dependable variable) by the rest of the columns (independent variable) to define what type of class it is, \"positive\" or \"negative\" for each one of the components."
   ]
  },
  {
   "cell_type": "code",
   "execution_count": 182,
   "id": "37c19714",
   "metadata": {
    "scrolled": true
   },
   "outputs": [
    {
     "data": {
      "image/png": "[encoded data removed]",
      "text/plain": [
       "<Figure size 720x432 with 1 Axes>"
      ]
     },
     "metadata": {},
     "output_type": "display_data"
    }
   ],
   "source": [
    "fig, ax = plt.subplots(figsize=(10,6)) \n",
    "ax.scatter(new_aps_failure_df['aa_000'], new_aps_failure_df['class']) \n",
    "ax.set_xlabel('Component') \n",
    "ax.set_ylabel('Class') \n",
    "plt.show() "
   ]
  },
  {
   "cell_type": "code",
   "execution_count": 183,
   "id": "8ca0d478",
   "metadata": {},
   "outputs": [
    {
     "data": {
      "image/png": "[encoded data removed]",
      "text/plain": [
       "<Figure size 720x432 with 1 Axes>"
      ]
     },
     "metadata": {},
     "output_type": "display_data"
    }
   ],
   "source": [
    "fig, ax = plt.subplots(figsize=(10,6)) \n",
    "ax.scatter(new_aps_failure_df['ee_002'], new_aps_failure_df['class']) \n",
    "ax.set_xlabel('Component') \n",
    "ax.set_ylabel('Class') \n",
    "plt.show() "
   ]
  },
  {
   "cell_type": "code",
   "execution_count": 184,
   "id": "beeed2ff",
   "metadata": {},
   "outputs": [
    {
     "data": {
      "text/plain": [
       "<AxesSubplot:xlabel='cc_000'>"
      ]
     },
     "execution_count": 184,
     "metadata": {},
     "output_type": "execute_result"
    },
    {
     "data": {
      "image/png": "[encoded data removed]",
      "text/plain": [
       "<Figure size 432x288 with 1 Axes>"
      ]
     },
     "metadata": {},
     "output_type": "display_data"
    }
   ],
   "source": [
    "sns.boxplot(x=new_aps_failure_df['cc_000'])"
   ]
  },
  {
   "cell_type": "code",
   "execution_count": 185,
   "id": "d8ce2783",
   "metadata": {
    "scrolled": true
   },
   "outputs": [
    {
     "data": {
      "text/plain": [
       "<AxesSubplot:xlabel='aa_000'>"
      ]
     },
     "execution_count": 185,
     "metadata": {},
     "output_type": "execute_result"
    },
    {
     "data": {
      "image/png": "[encoded data removed]",
      "text/plain": [
       "<Figure size 432x288 with 1 Axes>"
      ]
     },
     "metadata": {},
     "output_type": "display_data"
    }
   ],
   "source": [
    "sns.boxplot(x=new_aps_failure_df['aa_000'])"
   ]
  },
  {
   "cell_type": "markdown",
   "id": "4ab7a332",
   "metadata": {},
   "source": [
    "We can see in these graphs that we have values that are either too high or too low (outliers). To make our analysis more accurate we should remove them, but first, we need to reduce the number of columns we have, 171 (features), to have better management of all of this data."
   ]
  },
  {
   "cell_type": "markdown",
   "id": "90f85735",
   "metadata": {},
   "source": [
    "We are going to use PCA (Principal Component Analysis). This is essentially an algorithm to reduce the dimensionality or reduction of data. Francesco Palumbo et al (2008, p.356) adds as well \"They use PCA as a technique for describing a dataset without imposing any assumption about distribution or without starting from an underlying statistical model\" (Note: et al. means ‘and others’)."
   ]
  },
  {
   "cell_type": "code",
   "execution_count": 187,
   "id": "39c323f1",
   "metadata": {},
   "outputs": [
    {
     "data": {
      "text/plain": [
       "(59000, 170)"
      ]
     },
     "execution_count": 187,
     "metadata": {},
     "output_type": "execute_result"
    }
   ],
   "source": [
    "new_aps_failure_df2 = new_aps_failure_df[new_aps_failure_df['class'] == 'neg']\n",
    "new_aps_failure_df2.shape"
   ]
  },
  {
   "cell_type": "code",
   "execution_count": 30,
   "id": "96fde7dd",
   "metadata": {},
   "outputs": [],
   "source": [
    "%matplotlib inline \n",
    "import numpy as np \n",
    "from sklearn.decomposition import PCA\n",
    "import seaborn as sns; \n",
    "import matplotlib.pyplot as plt\n",
    "sns.set() "
   ]
  },
  {
   "cell_type": "code",
   "execution_count": 31,
   "id": "477c04b3",
   "metadata": {},
   "outputs": [
    {
     "data": {
      "image/png": "[encoded data removed]",
      "text/plain": [
       "<Figure size 432x288 with 1 Axes>"
      ]
     },
     "metadata": {},
     "output_type": "display_data"
    }
   ],
   "source": [
    "pca = PCA().fit(aps_failure_numbers_df) \n",
    "plt.plot(np.cumsum(pca.explained_variance_ratio_)) \n",
    "plt.xlabel('number of components') \n",
    "plt.ylabel('cumulative explained variance'); "
   ]
  },
  {
   "cell_type": "markdown",
   "id": "d55c218d",
   "metadata": {},
   "source": [
    "We are using the PCA algorithm to plot in a histogram only the numerical part of the dataset (\"aps_failure_numbers_df\") to understand the number of components (columns) we need to describe the variance (we have excluded the class columns for now as it is text information that the PCA can not process, we will add them after we finish reducing the components). In the graph, we can determine we will need around 3 to 10 components to describe at least 99.5% of the variance (cumulative explained variance). This number of components will be considered to reduce the amount of data we currently have."
   ]
  },
  {
   "cell_type": "code",
   "execution_count": 50,
   "id": "d7248bd9",
   "metadata": {},
   "outputs": [],
   "source": [
    "pca = PCA(3)\n",
    "projected = pca.fit_transform(aps_failure_numbers_df)"
   ]
  },
  {
   "cell_type": "code",
   "execution_count": 48,
   "id": "b2a89998",
   "metadata": {},
   "outputs": [
    {
     "data": {
      "text/plain": [
       "(60000, 3)"
      ]
     },
     "execution_count": 48,
     "metadata": {},
     "output_type": "execute_result"
    }
   ],
   "source": [
    "projected.shape"
   ]
  },
  {
   "cell_type": "code",
   "execution_count": 49,
   "id": "36ca3c4d",
   "metadata": {},
   "outputs": [
    {
     "data": {
      "text/plain": [
       "array([0.98734852, 0.9946776 , 0.99782633])"
      ]
     },
     "execution_count": 49,
     "metadata": {},
     "output_type": "execute_result"
    }
   ],
   "source": [
    "np.cumsum(pca.explained_variance_ratio_)"
   ]
  },
  {
   "cell_type": "markdown",
   "id": "63daf6db",
   "metadata": {},
   "source": [
    "After reducing the components to 3 and calculating the cumulative sum of the variance (np.cumsum) we can observe we have reached the desired variance of 99.7% so we can stop adding more features (columns) to the dataset."
   ]
  },
  {
   "cell_type": "code",
   "execution_count": 96,
   "id": "6ddc0e7b",
   "metadata": {},
   "outputs": [],
   "source": [
    "aps_failure_pca = pd.DataFrame(projected, columns =['Component1', 'Component2', 'Component3'])"
   ]
  },
  {
   "cell_type": "code",
   "execution_count": 97,
   "id": "0c0f493f",
   "metadata": {
    "scrolled": false
   },
   "outputs": [
    {
     "data": {
      "text/html": [
       "<div>\n",
       "<style scoped>\n",
       "    .dataframe tbody tr th:only-of-type {\n",
       "        vertical-align: middle;\n",
       "    }\n",
       "\n",
       "    .dataframe tbody tr th {\n",
       "        vertical-align: top;\n",
       "    }\n",
       "\n",
       "    .dataframe thead th {\n",
       "        text-align: right;\n",
       "    }\n",
       "</style>\n",
       "<table border=\"1\" class=\"dataframe\">\n",
       "  <thead>\n",
       "    <tr style=\"text-align: right;\">\n",
       "      <th></th>\n",
       "      <th>Component1</th>\n",
       "      <th>Component2</th>\n",
       "      <th>Component3</th>\n",
       "    </tr>\n",
       "  </thead>\n",
       "  <tbody>\n",
       "    <tr>\n",
       "      <th>0</th>\n",
       "      <td>1.794489e+09</td>\n",
       "      <td>1.046194e+06</td>\n",
       "      <td>3.518185e+06</td>\n",
       "    </tr>\n",
       "    <tr>\n",
       "      <th>1</th>\n",
       "      <td>-3.362023e+08</td>\n",
       "      <td>8.234378e+05</td>\n",
       "      <td>-7.090018e+06</td>\n",
       "    </tr>\n",
       "    <tr>\n",
       "      <th>2</th>\n",
       "      <td>-3.362019e+08</td>\n",
       "      <td>8.546046e+05</td>\n",
       "      <td>-1.059183e+07</td>\n",
       "    </tr>\n",
       "    <tr>\n",
       "      <th>3</th>\n",
       "      <td>-3.361789e+08</td>\n",
       "      <td>6.979197e+05</td>\n",
       "      <td>-1.529578e+07</td>\n",
       "    </tr>\n",
       "    <tr>\n",
       "      <th>4</th>\n",
       "      <td>-3.362548e+08</td>\n",
       "      <td>1.231332e+05</td>\n",
       "      <td>9.671098e+06</td>\n",
       "    </tr>\n",
       "    <tr>\n",
       "      <th>5</th>\n",
       "      <td>1.794513e+09</td>\n",
       "      <td>8.637247e+05</td>\n",
       "      <td>-4.562310e+06</td>\n",
       "    </tr>\n",
       "    <tr>\n",
       "      <th>6</th>\n",
       "      <td>-3.361789e+08</td>\n",
       "      <td>7.070339e+05</td>\n",
       "      <td>-1.521655e+07</td>\n",
       "    </tr>\n",
       "    <tr>\n",
       "      <th>7</th>\n",
       "      <td>1.794485e+09</td>\n",
       "      <td>1.027589e+06</td>\n",
       "      <td>4.526269e+06</td>\n",
       "    </tr>\n",
       "    <tr>\n",
       "      <th>8</th>\n",
       "      <td>-3.361995e+08</td>\n",
       "      <td>1.297753e+06</td>\n",
       "      <td>-3.203121e+06</td>\n",
       "    </tr>\n",
       "    <tr>\n",
       "      <th>9</th>\n",
       "      <td>-3.362306e+08</td>\n",
       "      <td>1.158894e+06</td>\n",
       "      <td>-6.780627e+06</td>\n",
       "    </tr>\n",
       "  </tbody>\n",
       "</table>\n",
       "</div>"
      ],
      "text/plain": [
       "     Component1    Component2    Component3\n",
       "0  1.794489e+09  1.046194e+06  3.518185e+06\n",
       "1 -3.362023e+08  8.234378e+05 -7.090018e+06\n",
       "2 -3.362019e+08  8.546046e+05 -1.059183e+07\n",
       "3 -3.361789e+08  6.979197e+05 -1.529578e+07\n",
       "4 -3.362548e+08  1.231332e+05  9.671098e+06\n",
       "5  1.794513e+09  8.637247e+05 -4.562310e+06\n",
       "6 -3.361789e+08  7.070339e+05 -1.521655e+07\n",
       "7  1.794485e+09  1.027589e+06  4.526269e+06\n",
       "8 -3.361995e+08  1.297753e+06 -3.203121e+06\n",
       "9 -3.362306e+08  1.158894e+06 -6.780627e+06"
      ]
     },
     "execution_count": 97,
     "metadata": {},
     "output_type": "execute_result"
    }
   ],
   "source": [
    "aps_failure_pca.head(10)"
   ]
  },
  {
   "cell_type": "code",
   "execution_count": 55,
   "id": "1cccc0df",
   "metadata": {
    "scrolled": true
   },
   "outputs": [
    {
     "name": "stdout",
     "output_type": "stream",
     "text": [
      "Component 1    0\n",
      "Component 2    0\n",
      "Component 3    0\n",
      "dtype: int64\n"
     ]
    }
   ],
   "source": [
    "print(aps_failure_pca.isnull().sum())"
   ]
  },
  {
   "cell_type": "code",
   "execution_count": 95,
   "id": "6e0316b4",
   "metadata": {},
   "outputs": [
    {
     "data": {
      "text/plain": [
       "array([ 1.79448935e+09, -3.36202266e+08, -3.36201866e+08, ...,\n",
       "        1.79450871e+09,  1.79444071e+09, -3.36285802e+08])"
      ]
     },
     "execution_count": 95,
     "metadata": {},
     "output_type": "execute_result"
    }
   ],
   "source": [
    "aps_failure_pca['Component1'].unique()"
   ]
  },
  {
   "cell_type": "markdown",
   "id": "12f8b96a",
   "metadata": {},
   "source": [
    "Showing the new dataset in a table with the 3 features we currently have to see how the observations look now and check there are no empty or incorrect values on it."
   ]
  },
  {
   "cell_type": "code",
   "execution_count": 135,
   "id": "f0aed8de",
   "metadata": {},
   "outputs": [],
   "source": [
    "aps_failure_pca['class'] = new_aps_failure_df['class']"
   ]
  },
  {
   "cell_type": "code",
   "execution_count": 130,
   "id": "47824018",
   "metadata": {
    "scrolled": true
   },
   "outputs": [
    {
     "data": {
      "text/html": [
       "<div>\n",
       "<style scoped>\n",
       "    .dataframe tbody tr th:only-of-type {\n",
       "        vertical-align: middle;\n",
       "    }\n",
       "\n",
       "    .dataframe tbody tr th {\n",
       "        vertical-align: top;\n",
       "    }\n",
       "\n",
       "    .dataframe thead th {\n",
       "        text-align: right;\n",
       "    }\n",
       "</style>\n",
       "<table border=\"1\" class=\"dataframe\">\n",
       "  <thead>\n",
       "    <tr style=\"text-align: right;\">\n",
       "      <th></th>\n",
       "      <th>Component1</th>\n",
       "      <th>Component2</th>\n",
       "      <th>Component3</th>\n",
       "      <th>class</th>\n",
       "    </tr>\n",
       "  </thead>\n",
       "  <tbody>\n",
       "    <tr>\n",
       "      <th>1</th>\n",
       "      <td>-3.362023e+08</td>\n",
       "      <td>8.234378e+05</td>\n",
       "      <td>-7.090018e+06</td>\n",
       "      <td>neg</td>\n",
       "    </tr>\n",
       "    <tr>\n",
       "      <th>2</th>\n",
       "      <td>-3.362019e+08</td>\n",
       "      <td>8.546046e+05</td>\n",
       "      <td>-1.059183e+07</td>\n",
       "      <td>neg</td>\n",
       "    </tr>\n",
       "    <tr>\n",
       "      <th>3</th>\n",
       "      <td>-3.361789e+08</td>\n",
       "      <td>6.979197e+05</td>\n",
       "      <td>-1.529578e+07</td>\n",
       "      <td>neg</td>\n",
       "    </tr>\n",
       "    <tr>\n",
       "      <th>6</th>\n",
       "      <td>-3.361789e+08</td>\n",
       "      <td>7.070339e+05</td>\n",
       "      <td>-1.521655e+07</td>\n",
       "      <td>neg</td>\n",
       "    </tr>\n",
       "    <tr>\n",
       "      <th>9</th>\n",
       "      <td>-3.362306e+08</td>\n",
       "      <td>1.158894e+06</td>\n",
       "      <td>-6.780627e+06</td>\n",
       "      <td>pos</td>\n",
       "    </tr>\n",
       "  </tbody>\n",
       "</table>\n",
       "</div>"
      ],
      "text/plain": [
       "     Component1    Component2    Component3 class\n",
       "1 -3.362023e+08  8.234378e+05 -7.090018e+06   neg\n",
       "2 -3.362019e+08  8.546046e+05 -1.059183e+07   neg\n",
       "3 -3.361789e+08  6.979197e+05 -1.529578e+07   neg\n",
       "6 -3.361789e+08  7.070339e+05 -1.521655e+07   neg\n",
       "9 -3.362306e+08  1.158894e+06 -6.780627e+06   pos"
      ]
     },
     "execution_count": 130,
     "metadata": {},
     "output_type": "execute_result"
    }
   ],
   "source": [
    "aps_failure_pca.head()"
   ]
  },
  {
   "cell_type": "markdown",
   "id": "4952ef18",
   "metadata": {},
   "source": [
    "We have rejoined our new dataset after the data reduction with the class column."
   ]
  },
  {
   "cell_type": "code",
   "execution_count": 102,
   "id": "6b65a3ef",
   "metadata": {},
   "outputs": [
    {
     "data": {
      "text/plain": [
       "<AxesSubplot:xlabel='Component3'>"
      ]
     },
     "execution_count": 102,
     "metadata": {},
     "output_type": "execute_result"
    },
    {
     "data": {
      "image/png": "[encoded data removed]",
      "text/plain": [
       "<Figure size 432x288 with 1 Axes>"
      ]
     },
     "metadata": {},
     "output_type": "display_data"
    }
   ],
   "source": [
    "sns.boxplot(x=aps_failure_pca['Component3'])"
   ]
  },
  {
   "cell_type": "markdown",
   "id": "eadda09b",
   "metadata": {},
   "source": [
    "Back to the outliers that we mentioned before as we can see in the graphs, some values are really high or really low and out of the box that we should remove to make our database more accurate. As Antony Unwinet et al (2008, p.839)  affirms \"A transformation might help (but it is not always appropriate...). The outliers could be trimmed or discarded (depending on what kinds of outliers they are)\" (Note: et al. means ‘and others’)"
   ]
  },
  {
   "cell_type": "code",
   "execution_count": 136,
   "id": "d1bbf977",
   "metadata": {
    "scrolled": true
   },
   "outputs": [
    {
     "name": "stdout",
     "output_type": "stream",
     "text": [
      "Component1    2.189483e+04\n",
      "Component2    1.560500e+05\n",
      "Component3    5.555930e+06\n",
      "dtype: float64\n"
     ]
    }
   ],
   "source": [
    "Q1 = aps_failure_pca.quantile(0.25) \n",
    "Q3 = aps_failure_pca.quantile(0.75) \n",
    "IQR = Q3 - Q1 \n",
    "print(IQR)"
   ]
  },
  {
   "cell_type": "markdown",
   "id": "1bd26b89",
   "metadata": {},
   "source": [
    "We are defining our minimum and maximum quantile values (maximum and minimum values) to be removed."
   ]
  },
  {
   "cell_type": "code",
   "execution_count": 137,
   "id": "e8de8f3a",
   "metadata": {
    "scrolled": true
   },
   "outputs": [
    {
     "name": "stderr",
     "output_type": "stream",
     "text": [
      "<ipython-input-137-ceb795a3b9e9>:1: FutureWarning: Automatic reindexing on DataFrame vs Series comparisons is deprecated and will raise ValueError in a future version.  Do `left, right = left.align(right, axis=1, copy=False)` before e.g. `left == right`\n",
      "  aps_failure_pca = aps_failure_pca[~((aps_failure_pca < (Q1-1.5 * IQR)) |(aps_failure_pca > (Q3 + 1.5 * IQR))).any(axis=1)]\n",
      "<ipython-input-137-ceb795a3b9e9>:1: FutureWarning: Automatic reindexing on DataFrame vs Series comparisons is deprecated and will raise ValueError in a future version.  Do `left, right = left.align(right, axis=1, copy=False)` before e.g. `left == right`\n",
      "  aps_failure_pca = aps_failure_pca[~((aps_failure_pca < (Q1-1.5 * IQR)) |(aps_failure_pca > (Q3 + 1.5 * IQR))).any(axis=1)]\n"
     ]
    },
    {
     "data": {
      "text/plain": [
       "(35937, 4)"
      ]
     },
     "execution_count": 137,
     "metadata": {},
     "output_type": "execute_result"
    }
   ],
   "source": [
    "aps_failure_pca = aps_failure_pca[~((aps_failure_pca < (Q1-1.5 * IQR)) |(aps_failure_pca > (Q3 + 1.5 * IQR))).any(axis=1)] \n",
    "aps_failure_pca.shape"
   ]
  },
  {
   "cell_type": "code",
   "execution_count": 138,
   "id": "cbec26a0",
   "metadata": {
    "scrolled": true
   },
   "outputs": [
    {
     "data": {
      "text/html": [
       "<div>\n",
       "<style scoped>\n",
       "    .dataframe tbody tr th:only-of-type {\n",
       "        vertical-align: middle;\n",
       "    }\n",
       "\n",
       "    .dataframe tbody tr th {\n",
       "        vertical-align: top;\n",
       "    }\n",
       "\n",
       "    .dataframe thead th {\n",
       "        text-align: right;\n",
       "    }\n",
       "</style>\n",
       "<table border=\"1\" class=\"dataframe\">\n",
       "  <thead>\n",
       "    <tr style=\"text-align: right;\">\n",
       "      <th></th>\n",
       "      <th>Component1</th>\n",
       "      <th>Component2</th>\n",
       "      <th>Component3</th>\n",
       "      <th>class</th>\n",
       "    </tr>\n",
       "  </thead>\n",
       "  <tbody>\n",
       "    <tr>\n",
       "      <th>1</th>\n",
       "      <td>-3.362023e+08</td>\n",
       "      <td>823437.761836</td>\n",
       "      <td>-7.090018e+06</td>\n",
       "      <td>neg</td>\n",
       "    </tr>\n",
       "    <tr>\n",
       "      <th>2</th>\n",
       "      <td>-3.362019e+08</td>\n",
       "      <td>854604.565149</td>\n",
       "      <td>-1.059183e+07</td>\n",
       "      <td>neg</td>\n",
       "    </tr>\n",
       "    <tr>\n",
       "      <th>3</th>\n",
       "      <td>-3.361789e+08</td>\n",
       "      <td>697919.696844</td>\n",
       "      <td>-1.529578e+07</td>\n",
       "      <td>neg</td>\n",
       "    </tr>\n",
       "    <tr>\n",
       "      <th>6</th>\n",
       "      <td>-3.361789e+08</td>\n",
       "      <td>707033.883744</td>\n",
       "      <td>-1.521655e+07</td>\n",
       "      <td>neg</td>\n",
       "    </tr>\n",
       "    <tr>\n",
       "      <th>10</th>\n",
       "      <td>-3.362172e+08</td>\n",
       "      <td>495385.819750</td>\n",
       "      <td>-3.573562e+06</td>\n",
       "      <td>neg</td>\n",
       "    </tr>\n",
       "  </tbody>\n",
       "</table>\n",
       "</div>"
      ],
      "text/plain": [
       "      Component1     Component2    Component3 class\n",
       "1  -3.362023e+08  823437.761836 -7.090018e+06   neg\n",
       "2  -3.362019e+08  854604.565149 -1.059183e+07   neg\n",
       "3  -3.361789e+08  697919.696844 -1.529578e+07   neg\n",
       "6  -3.361789e+08  707033.883744 -1.521655e+07   neg\n",
       "10 -3.362172e+08  495385.819750 -3.573562e+06   neg"
      ]
     },
     "execution_count": 138,
     "metadata": {},
     "output_type": "execute_result"
    }
   ],
   "source": [
    "aps_failure_pca.head()"
   ]
  },
  {
   "cell_type": "markdown",
   "id": "07c67310",
   "metadata": {},
   "source": [
    "After we reduced the number of variables (observations) the number decreased to 35937 by removing the outliers."
   ]
  },
  {
   "cell_type": "code",
   "execution_count": 139,
   "id": "d114882e",
   "metadata": {
    "scrolled": true
   },
   "outputs": [
    {
     "data": {
      "text/plain": [
       "<AxesSubplot:xlabel='Component1'>"
      ]
     },
     "execution_count": 139,
     "metadata": {},
     "output_type": "execute_result"
    },
    {
     "data": {
      "image/png": "[encoded data removed]",
      "text/plain": [
       "<Figure size 432x288 with 1 Axes>"
      ]
     },
     "metadata": {},
     "output_type": "display_data"
    }
   ],
   "source": [
    "sns.boxplot(x=aps_failure_pca['Component1'])"
   ]
  },
  {
   "cell_type": "markdown",
   "id": "3c3d9243",
   "metadata": {},
   "source": [
    "Also, we can check on the graph (box plot) we have the higher and lower values normalized that will result, as previously mentioned, in a more accurate dataset."
   ]
  },
  {
   "cell_type": "code",
   "execution_count": 140,
   "id": "b0c2898b",
   "metadata": {
    "scrolled": true
   },
   "outputs": [
    {
     "data": {
      "image/png": "[encoded data removed]",
      "text/plain": [
       "<Figure size 720x432 with 1 Axes>"
      ]
     },
     "metadata": {},
     "output_type": "display_data"
    }
   ],
   "source": [
    "fig, ax = plt.subplots(figsize=(10,6)) \n",
    "ax.scatter(aps_failure_pca['Component1'], aps_failure_pca['class']) \n",
    "ax.set_xlabel('Component') \n",
    "ax.set_ylabel('Class') \n",
    "plt.show()"
   ]
  },
  {
   "cell_type": "markdown",
   "id": "7249dd32",
   "metadata": {},
   "source": [
    "Analyzing more about the values in the graph we can see there are more values in the \"negative\" class rather than the \"positive\" class. We are going to divide these two classes to get more information about them and try to get some insights."
   ]
  },
  {
   "cell_type": "code",
   "execution_count": 166,
   "id": "2bf9832d",
   "metadata": {
    "scrolled": true
   },
   "outputs": [
    {
     "data": {
      "text/html": [
       "<div>\n",
       "<style scoped>\n",
       "    .dataframe tbody tr th:only-of-type {\n",
       "        vertical-align: middle;\n",
       "    }\n",
       "\n",
       "    .dataframe tbody tr th {\n",
       "        vertical-align: top;\n",
       "    }\n",
       "\n",
       "    .dataframe thead th {\n",
       "        text-align: right;\n",
       "    }\n",
       "</style>\n",
       "<table border=\"1\" class=\"dataframe\">\n",
       "  <thead>\n",
       "    <tr style=\"text-align: right;\">\n",
       "      <th></th>\n",
       "      <th>Component1</th>\n",
       "      <th>Component2</th>\n",
       "      <th>Component3</th>\n",
       "      <th>class</th>\n",
       "    </tr>\n",
       "  </thead>\n",
       "  <tbody>\n",
       "    <tr>\n",
       "      <th>3734</th>\n",
       "      <td>-3.362075e+08</td>\n",
       "      <td>9.403574e+05</td>\n",
       "      <td>-9.892316e+06</td>\n",
       "      <td>pos</td>\n",
       "    </tr>\n",
       "    <tr>\n",
       "      <th>7181</th>\n",
       "      <td>-3.362270e+08</td>\n",
       "      <td>1.054364e+06</td>\n",
       "      <td>-7.313612e+06</td>\n",
       "      <td>pos</td>\n",
       "    </tr>\n",
       "    <tr>\n",
       "      <th>10124</th>\n",
       "      <td>-3.361796e+08</td>\n",
       "      <td>7.055185e+05</td>\n",
       "      <td>-1.520176e+07</td>\n",
       "      <td>pos</td>\n",
       "    </tr>\n",
       "    <tr>\n",
       "      <th>10186</th>\n",
       "      <td>-3.361815e+08</td>\n",
       "      <td>7.210641e+05</td>\n",
       "      <td>-1.478633e+07</td>\n",
       "      <td>pos</td>\n",
       "    </tr>\n",
       "    <tr>\n",
       "      <th>10963</th>\n",
       "      <td>-3.361818e+08</td>\n",
       "      <td>6.818137e+05</td>\n",
       "      <td>-1.467569e+07</td>\n",
       "      <td>pos</td>\n",
       "    </tr>\n",
       "    <tr>\n",
       "      <th>24043</th>\n",
       "      <td>-3.361818e+08</td>\n",
       "      <td>7.394112e+05</td>\n",
       "      <td>-1.385151e+07</td>\n",
       "      <td>pos</td>\n",
       "    </tr>\n",
       "    <tr>\n",
       "      <th>28279</th>\n",
       "      <td>-3.361898e+08</td>\n",
       "      <td>8.028091e+05</td>\n",
       "      <td>-1.340642e+07</td>\n",
       "      <td>pos</td>\n",
       "    </tr>\n",
       "    <tr>\n",
       "      <th>29405</th>\n",
       "      <td>-3.362331e+08</td>\n",
       "      <td>6.842562e+05</td>\n",
       "      <td>-1.364671e+06</td>\n",
       "      <td>pos</td>\n",
       "    </tr>\n",
       "    <tr>\n",
       "      <th>33773</th>\n",
       "      <td>-3.362218e+08</td>\n",
       "      <td>1.062900e+06</td>\n",
       "      <td>-7.252234e+06</td>\n",
       "      <td>pos</td>\n",
       "    </tr>\n",
       "    <tr>\n",
       "      <th>35543</th>\n",
       "      <td>-3.361796e+08</td>\n",
       "      <td>6.870679e+05</td>\n",
       "      <td>-1.523574e+07</td>\n",
       "      <td>pos</td>\n",
       "    </tr>\n",
       "  </tbody>\n",
       "</table>\n",
       "</div>"
      ],
      "text/plain": [
       "         Component1    Component2    Component3 class\n",
       "3734  -3.362075e+08  9.403574e+05 -9.892316e+06   pos\n",
       "7181  -3.362270e+08  1.054364e+06 -7.313612e+06   pos\n",
       "10124 -3.361796e+08  7.055185e+05 -1.520176e+07   pos\n",
       "10186 -3.361815e+08  7.210641e+05 -1.478633e+07   pos\n",
       "10963 -3.361818e+08  6.818137e+05 -1.467569e+07   pos\n",
       "24043 -3.361818e+08  7.394112e+05 -1.385151e+07   pos\n",
       "28279 -3.361898e+08  8.028091e+05 -1.340642e+07   pos\n",
       "29405 -3.362331e+08  6.842562e+05 -1.364671e+06   pos\n",
       "33773 -3.362218e+08  1.062900e+06 -7.252234e+06   pos\n",
       "35543 -3.361796e+08  6.870679e+05 -1.523574e+07   pos"
      ]
     },
     "execution_count": 166,
     "metadata": {},
     "output_type": "execute_result"
    }
   ],
   "source": [
    "aps_failure_pca_pos = aps_failure_pca[aps_failure_pca['class'] == 'pos']\n",
    "aps_failure_pca_pos.head(10)"
   ]
  },
  {
   "cell_type": "code",
   "execution_count": 162,
   "id": "b757b7e6",
   "metadata": {},
   "outputs": [
    {
     "data": {
      "text/plain": [
       "(16, 4)"
      ]
     },
     "execution_count": 162,
     "metadata": {},
     "output_type": "execute_result"
    }
   ],
   "source": [
    "aps_failure_pca_pos.shape"
   ]
  },
  {
   "cell_type": "markdown",
   "id": "6d46d138",
   "metadata": {},
   "source": [
    "We have divided the dataset for the positive class first and we can see there are 16 rows (observations) from the whole dataset dedicated to this class."
   ]
  },
  {
   "cell_type": "code",
   "execution_count": 175,
   "id": "8a099542",
   "metadata": {
    "scrolled": true
   },
   "outputs": [
    {
     "data": {
      "image/png": "[encoded data removed]",
      "text/plain": [
       "<Figure size 720x432 with 1 Axes>"
      ]
     },
     "metadata": {},
     "output_type": "display_data"
    }
   ],
   "source": [
    "fig, ax = plt.subplots(figsize=(10,6)) \n",
    "ax.scatter(aps_failure_pca_pos['Component1'], aps_failure_pca_pos['class']) \n",
    "ax.set_xlabel('Component 1') \n",
    "ax.set_ylabel('Class') \n",
    "plt.show()"
   ]
  },
  {
   "cell_type": "markdown",
   "id": "61b930bf",
   "metadata": {},
   "source": [
    "Comparing the values from \"Component 1\" on the positive class we can identify most of them are scattered (on our scatterplot graph above) but the values are not showing bigger differences among them. That means the values are not high or low and they nor represent much variance within them. As Antony Unwin et al (2008, p.847) mentions \"The utilization of selection and linking for scatterplots can be highly effective, but it is dependent on the data distribution.\" and (2008, p.848) \"...The success of a particular plot depends on there being clear-cut information to find.\" (Note: et al. means ‘and others’)."
   ]
  },
  {
   "cell_type": "code",
   "execution_count": 188,
   "id": "c8fe1773",
   "metadata": {
    "scrolled": false
   },
   "outputs": [
    {
     "data": {
      "text/plain": [
       "<seaborn.axisgrid.PairGrid at 0x1ca8ec9c0a0>"
      ]
     },
     "execution_count": 188,
     "metadata": {},
     "output_type": "execute_result"
    },
    {
     "data": {
      "image/png": "[encoded data removed]",
      "text/plain": [
       "<Figure size 540x540 with 12 Axes>"
      ]
     },
     "metadata": {},
     "output_type": "display_data"
    }
   ],
   "source": [
    "sns.pairplot(aps_failure_pca_pos)"
   ]
  },
  {
   "cell_type": "markdown",
   "id": "e5cdd91d",
   "metadata": {},
   "source": [
    "When comparing all of the components of the positive class and trying to find a correlation, we can see the same, the values are scattered. We can say there is no consistency on the amount of failures of the components in this class."
   ]
  },
  {
   "cell_type": "code",
   "execution_count": 165,
   "id": "4f0b4574",
   "metadata": {
    "scrolled": true
   },
   "outputs": [
    {
     "data": {
      "text/html": [
       "<div>\n",
       "<style scoped>\n",
       "    .dataframe tbody tr th:only-of-type {\n",
       "        vertical-align: middle;\n",
       "    }\n",
       "\n",
       "    .dataframe tbody tr th {\n",
       "        vertical-align: top;\n",
       "    }\n",
       "\n",
       "    .dataframe thead th {\n",
       "        text-align: right;\n",
       "    }\n",
       "</style>\n",
       "<table border=\"1\" class=\"dataframe\">\n",
       "  <thead>\n",
       "    <tr style=\"text-align: right;\">\n",
       "      <th></th>\n",
       "      <th>Component1</th>\n",
       "      <th>Component2</th>\n",
       "      <th>Component3</th>\n",
       "      <th>class</th>\n",
       "    </tr>\n",
       "  </thead>\n",
       "  <tbody>\n",
       "    <tr>\n",
       "      <th>1</th>\n",
       "      <td>-3.362023e+08</td>\n",
       "      <td>823437.761836</td>\n",
       "      <td>-7.090018e+06</td>\n",
       "      <td>neg</td>\n",
       "    </tr>\n",
       "    <tr>\n",
       "      <th>2</th>\n",
       "      <td>-3.362019e+08</td>\n",
       "      <td>854604.565149</td>\n",
       "      <td>-1.059183e+07</td>\n",
       "      <td>neg</td>\n",
       "    </tr>\n",
       "    <tr>\n",
       "      <th>3</th>\n",
       "      <td>-3.361789e+08</td>\n",
       "      <td>697919.696844</td>\n",
       "      <td>-1.529578e+07</td>\n",
       "      <td>neg</td>\n",
       "    </tr>\n",
       "    <tr>\n",
       "      <th>6</th>\n",
       "      <td>-3.361789e+08</td>\n",
       "      <td>707033.883744</td>\n",
       "      <td>-1.521655e+07</td>\n",
       "      <td>neg</td>\n",
       "    </tr>\n",
       "    <tr>\n",
       "      <th>10</th>\n",
       "      <td>-3.362172e+08</td>\n",
       "      <td>495385.819750</td>\n",
       "      <td>-3.573562e+06</td>\n",
       "      <td>neg</td>\n",
       "    </tr>\n",
       "    <tr>\n",
       "      <th>11</th>\n",
       "      <td>-3.362092e+08</td>\n",
       "      <td>969957.135415</td>\n",
       "      <td>-1.021140e+07</td>\n",
       "      <td>neg</td>\n",
       "    </tr>\n",
       "    <tr>\n",
       "      <th>12</th>\n",
       "      <td>-3.361824e+08</td>\n",
       "      <td>663533.706770</td>\n",
       "      <td>-1.411569e+07</td>\n",
       "      <td>neg</td>\n",
       "    </tr>\n",
       "    <tr>\n",
       "      <th>14</th>\n",
       "      <td>-3.361884e+08</td>\n",
       "      <td>781643.226757</td>\n",
       "      <td>-1.192297e+07</td>\n",
       "      <td>neg</td>\n",
       "    </tr>\n",
       "    <tr>\n",
       "      <th>15</th>\n",
       "      <td>-3.361791e+08</td>\n",
       "      <td>699300.302729</td>\n",
       "      <td>-1.526863e+07</td>\n",
       "      <td>neg</td>\n",
       "    </tr>\n",
       "    <tr>\n",
       "      <th>17</th>\n",
       "      <td>-3.361792e+08</td>\n",
       "      <td>687423.843255</td>\n",
       "      <td>-1.521413e+07</td>\n",
       "      <td>neg</td>\n",
       "    </tr>\n",
       "  </tbody>\n",
       "</table>\n",
       "</div>"
      ],
      "text/plain": [
       "      Component1     Component2    Component3 class\n",
       "1  -3.362023e+08  823437.761836 -7.090018e+06   neg\n",
       "2  -3.362019e+08  854604.565149 -1.059183e+07   neg\n",
       "3  -3.361789e+08  697919.696844 -1.529578e+07   neg\n",
       "6  -3.361789e+08  707033.883744 -1.521655e+07   neg\n",
       "10 -3.362172e+08  495385.819750 -3.573562e+06   neg\n",
       "11 -3.362092e+08  969957.135415 -1.021140e+07   neg\n",
       "12 -3.361824e+08  663533.706770 -1.411569e+07   neg\n",
       "14 -3.361884e+08  781643.226757 -1.192297e+07   neg\n",
       "15 -3.361791e+08  699300.302729 -1.526863e+07   neg\n",
       "17 -3.361792e+08  687423.843255 -1.521413e+07   neg"
      ]
     },
     "execution_count": 165,
     "metadata": {},
     "output_type": "execute_result"
    }
   ],
   "source": [
    "aps_failure_pca_neg = aps_failure_pca[aps_failure_pca['class'] == 'neg']\n",
    "aps_failure_pca_neg.head(10)"
   ]
  },
  {
   "cell_type": "code",
   "execution_count": 164,
   "id": "0ca11dc3",
   "metadata": {
    "scrolled": true
   },
   "outputs": [
    {
     "data": {
      "text/plain": [
       "(35921, 4)"
      ]
     },
     "execution_count": 164,
     "metadata": {},
     "output_type": "execute_result"
    }
   ],
   "source": [
    "aps_failure_pca_neg.shape"
   ]
  },
  {
   "cell_type": "markdown",
   "id": "0349fafe",
   "metadata": {},
   "source": [
    "For the negative class, we can observe there are 35921 rows (observations) from the whole dataset classified to this class. Almost the majority of the dataset is defined as negative."
   ]
  },
  {
   "cell_type": "code",
   "execution_count": 176,
   "id": "f45ae6b7",
   "metadata": {
    "scrolled": true
   },
   "outputs": [
    {
     "data": {
      "image/png": "[encoded data removed]",
      "text/plain": [
       "<Figure size 720x432 with 1 Axes>"
      ]
     },
     "metadata": {},
     "output_type": "display_data"
    }
   ],
   "source": [
    "fig, ax = plt.subplots(figsize=(10,6)) \n",
    "ax.scatter(aps_failure_pca_neg['Component1'], aps_failure_pca_neg['class']) \n",
    "ax.set_xlabel('Component 1') \n",
    "ax.set_ylabel('Class') \n",
    "plt.show()"
   ]
  },
  {
   "cell_type": "markdown",
   "id": "5bc3009e",
   "metadata": {},
   "source": [
    "Comparing the values from \"Component 1\" on the negative class we can notice most of them are similar values. Seems the values are grouped in the same numbers between -3.3622 and -3.3616."
   ]
  },
  {
   "cell_type": "code",
   "execution_count": null,
   "id": "e801641e",
   "metadata": {},
   "outputs": [],
   "source": [
    "fig, ax = plt.subplots(figsize=(10,6)) \n",
    "ax.scatter(aps_failure_pca['Component1'], aps_failure_pca['class']) \n",
    "ax.set_xlabel('Component') \n",
    "ax.set_ylabel('Class') \n",
    "plt.show()"
   ]
  },
  {
   "cell_type": "code",
   "execution_count": 189,
   "id": "0bb64e03",
   "metadata": {
    "scrolled": false
   },
   "outputs": [
    {
     "data": {
      "text/plain": [
       "<seaborn.axisgrid.PairGrid at 0x1ca9026fdf0>"
      ]
     },
     "execution_count": 189,
     "metadata": {},
     "output_type": "execute_result"
    },
    {
     "data": {
      "image/png": "[encoded data removed]",
      "text/plain": [
       "<Figure size 540x540 with 12 Axes>"
      ]
     },
     "metadata": {},
     "output_type": "display_data"
    }
   ],
   "source": [
    "sns.pairplot(aps_failure_pca_neg)"
   ]
  },
  {
   "cell_type": "markdown",
   "id": "cceffa39",
   "metadata": {},
   "source": [
    "When we apply the comparison to all of the components of the negative class and try to find a correlation we can see the same, the values are very close and similar. We can state there is consistency in the number of failures on the components of this class."
   ]
  },
  {
   "cell_type": "markdown",
   "id": "51ca1d59",
   "metadata": {},
   "source": [
    "# Curse of Dimensionality"
   ]
  },
  {
   "cell_type": "markdown",
   "id": "c8cea0be",
   "metadata": {},
   "source": [
    "Regarding the Curse of Dimensionality, we need to take two important facts into our analysis. Machine Learning models are much better at making data analysis when we are facing big amounts of dimensions than humans that are not prepared to find a method or system when there are large portions of the dimensions extended in the dataset and correlated with each other. The other fact is when we add more dimensions we will need more processing from our machine to make the analysis as well as we will require more training data to attain more significant machine learning models."
   ]
  },
  {
   "cell_type": "markdown",
   "id": "3c81d872",
   "metadata": {},
   "source": [
    "We have to consider as the number of features (columns) grows the model performance decreases. The same happens with the distance between different points in the data, when the features increase, the distances increase equally."
   ]
  },
  {
   "cell_type": "markdown",
   "id": "fba6b6a1",
   "metadata": {},
   "source": [
    "Considering these distances on information incrementing, supervised machine learning tends to have more processing power as the testing sets are less expected to be defined on their model learning from the same training features. If we have more information we are increasing the possibility of more of this data not being relevant for the analysis which could lead to an unsatisfactory efficiency."
   ]
  },
  {
   "cell_type": "markdown",
   "id": "58e7750d",
   "metadata": {},
   "source": [
    "We need to take care with overfitting and underfitting our machine learning models. "
   ]
  },
  {
   "cell_type": "markdown",
   "id": "cfbcd38f",
   "metadata": {},
   "source": [
    "Overfitting means our model is optimal to predict the information based on the training dataset but is unsuccessful when presented with new data. This denotes the model not having the generalization capacity."
   ]
  },
  {
   "cell_type": "markdown",
   "id": "569b899f",
   "metadata": {},
   "source": [
    "On the other hand, underfitting means our models have little representation capability. In other words, the machine learning model is not able to model the data even when we have all the training datasets we require. This would lead to an unsatisfactory performance from our model as well."
   ]
  },
  {
   "cell_type": "markdown",
   "id": "3b3114c2",
   "metadata": {},
   "source": [
    "# Conclusions"
   ]
  },
  {
   "cell_type": "markdown",
   "id": "ab605837",
   "metadata": {},
   "source": [
    "Considering we were working with a large database with several rows and columns we were able to make successfully cleaning of it by replacing the missing values with numerical ones, fixing the problems with the format, removing the outliers that were making the database inaccurate, reducing the number of features to a number that could help to have better management of the data (PCA - Principal Component Analysis) and splitting the database between the positive and negative classes for a better understanding of the information and analysis. "
   ]
  },
  {
   "cell_type": "markdown",
   "id": "c4d94987",
   "metadata": {},
   "source": [
    "As the Curse of Dimensionality suggested, reducing the number of features on the dataset can help to decrease the processing power as well as to have a machine learning model that is not overfitting or underfitting. Also growing our chances leads to much better performance and model generalization capacity that should be considered for future model analysis."
   ]
  },
  {
   "cell_type": "markdown",
   "id": "a47d0926",
   "metadata": {},
   "source": [
    "We can recognize that these are the main factors for a successful machine learning model prediction the way we plan based on our test and training dataset and achieve the results we want."
   ]
  },
  {
   "cell_type": "markdown",
   "id": "0f784f5e",
   "metadata": {},
   "source": [
    "Regarding the analysis based on the information we could gather after our data cleaning and plotting the graphs to find some correlations between the features and the classes:"
   ]
  },
  {
   "cell_type": "markdown",
   "id": "b95f0bc9",
   "metadata": {},
   "source": [
    "As per the positive and negative class results, we can say there are more failures in the negative class. The failures on the three components we gathered after the feature reduction were more consistent in numbers, similar to each other and the amount was very large compared to the positive class (35921 over a total of 35937 values)."
   ]
  },
  {
   "cell_type": "markdown",
   "id": "105ac546",
   "metadata": {},
   "source": [
    "Regarding the positive class, the failures were much lower (16 over the total database, after the feature reduction) and the values were scattered over the graph meaning there were no consistent failures over the three components analyzed for this class."
   ]
  },
  {
   "cell_type": "markdown",
   "id": "62949b49",
   "metadata": {},
   "source": [
    "After considering this analysis and comparison among the classes we can take only as a preliminary result that the negative class is more highlighted in our results and most of the failures are from components not related to the APS. So the APS system is not the main factor for the failure of the trucks. For a further detailed and more accurate analysis, we should apply a machine learning model with a training and test dataset to get new insights, better data comparison between the classes, and more useful predictions from the model."
   ]
  },
  {
   "cell_type": "markdown",
   "id": "d2a523ac",
   "metadata": {},
   "source": [
    "# References"
   ]
  },
  {
   "cell_type": "markdown",
   "id": "ffac0d2e",
   "metadata": {},
   "source": [
    ". Rowntre, Derek. (1981) Statistics Without Tears - A Primer For Non Mathematicians, Needham Heights, Massachusetts, USA: Allyn and Bacon,A Simon & Schuster Company.\n",
    "\n",
    ". Francesco Palumbo et al., Antony Unwinet et al. (2008) Handbook of Data Visualization, Leipzig, Germany: Springer-Verlag Berlin Heidelberg."
   ]
  },
  {
   "cell_type": "code",
   "execution_count": null,
   "id": "a6920697",
   "metadata": {},
   "outputs": [],
   "source": []
  }
 ],
 "metadata": {
  "kernelspec": {
   "display_name": "Python 3",
   "language": "python",
   "name": "python3"
  },
  "language_info": {
   "codemirror_mode": {
    "name": "ipython",
    "version": 3
   },
   "file_extension": ".py",
   "mimetype": "text/x-python",
   "name": "python",
   "nbconvert_exporter": "python",
   "pygments_lexer": "ipython3",
   "version": "3.8.8"
  }
 },
 "nbformat": 4,
 "nbformat_minor": 5
}
